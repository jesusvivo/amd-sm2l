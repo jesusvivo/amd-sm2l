{
  "cells": [
    {
      "cell_type": "markdown",
      "metadata": {
        "id": "y-OzO5TYPk8A"
      },
      "source": [
        "# Analysis of flight cancellations in the US\n",
        "\n",
        "First we will retrieve the dataset from Kaggle following the steps at [Easiest way to download kaggle data in Google Colab](https://www.kaggle.com/general/74235)"
      ]
    },
    {
      "cell_type": "code",
      "execution_count": 1,
      "metadata": {
        "id": "kwuFvh64O5o-"
      },
      "outputs": [],
      "source": [
        "! pip install -q kaggle"
      ]
    },
    {
      "cell_type": "code",
      "execution_count": 2,
      "metadata": {
        "colab": {
          "base_uri": "https://localhost:8080/"
        },
        "id": "5IYTLqHYSvyv",
        "outputId": "a973a55a-f0fa-4458-f352-28767f3c7051"
      },
      "outputs": [
        {
          "output_type": "stream",
          "name": "stdout",
          "text": [
            "Looking in indexes: https://pypi.org/simple, https://us-python.pkg.dev/colab-wheels/public/simple/\n",
            "Requirement already satisfied: pyspark in /usr/local/lib/python3.7/dist-packages (3.3.0)\n",
            "Requirement already satisfied: py4j==0.10.9.5 in /usr/local/lib/python3.7/dist-packages (from pyspark) (0.10.9.5)\n"
          ]
        }
      ],
      "source": [
        "! pip install pyspark"
      ]
    },
    {
      "cell_type": "code",
      "execution_count": 3,
      "metadata": {
        "colab": {
          "base_uri": "https://localhost:8080/"
        },
        "id": "iXVZbfgCt_Oe",
        "outputId": "77b76f8a-2a04-47d9-e3ee-b86f31c41a2c"
      },
      "outputs": [
        {
          "output_type": "stream",
          "name": "stdout",
          "text": [
            "Looking in indexes: https://pypi.org/simple, https://us-python.pkg.dev/colab-wheels/public/simple/\n",
            "Requirement already satisfied: findspark in /usr/local/lib/python3.7/dist-packages (2.0.1)\n"
          ]
        }
      ],
      "source": [
        "!pip install findspark"
      ]
    },
    {
      "cell_type": "markdown",
      "metadata": {
        "id": "hvtazC70QMiv"
      },
      "source": [
        "Now we must upload the Kaggle API token from our machine"
      ]
    },
    {
      "cell_type": "code",
      "execution_count": 4,
      "metadata": {
        "colab": {
          "base_uri": "https://localhost:8080/",
          "height": 92,
          "resources": {
            "http://localhost:8080/nbextensions/google.colab/files.js": {
              "data": "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",
              "headers": [
                [
                  "content-type",
                  "application/javascript"
                ]
              ],
              "ok": true,
              "status": 200,
              "status_text": ""
            }
          }
        },
        "id": "XtcxE1x2O_ra",
        "outputId": "9ccd3f27-7cb9-4349-d7c0-f7122e2f5a61"
      },
      "outputs": [
        {
          "output_type": "display_data",
          "data": {
            "text/plain": [
              "<IPython.core.display.HTML object>"
            ],
            "text/html": [
              "\n",
              "     <input type=\"file\" id=\"files-8956869c-144f-41ab-9e8f-138660c07f9c\" name=\"files[]\" multiple disabled\n",
              "        style=\"border:none\" />\n",
              "     <output id=\"result-8956869c-144f-41ab-9e8f-138660c07f9c\">\n",
              "      Upload widget is only available when the cell has been executed in the\n",
              "      current browser session. Please rerun this cell to enable.\n",
              "      </output>\n",
              "      <script src=\"/nbextensions/google.colab/files.js\"></script> "
            ]
          },
          "metadata": {}
        },
        {
          "output_type": "stream",
          "name": "stdout",
          "text": [
            "Saving kaggle.json to kaggle (2).json\n"
          ]
        },
        {
          "output_type": "execute_result",
          "data": {
            "text/plain": [
              "{'kaggle.json': b'{\"username\":\"jesusvivo\",\"key\":\"56a2f1ecbaabbec6b20715527201ac9d\"}'}"
            ]
          },
          "metadata": {},
          "execution_count": 4
        }
      ],
      "source": [
        "from google.colab import files\n",
        "\n",
        "files.upload()"
      ]
    },
    {
      "cell_type": "code",
      "execution_count": 5,
      "metadata": {
        "id": "HDgYRsF7PO5y",
        "colab": {
          "base_uri": "https://localhost:8080/"
        },
        "outputId": "7e4c06a0-a4b5-4fc9-f4a3-b97d9398485b"
      },
      "outputs": [
        {
          "output_type": "stream",
          "name": "stdout",
          "text": [
            "mkdir: cannot create directory ‘/root/.kaggle’: File exists\n"
          ]
        }
      ],
      "source": [
        "! mkdir ~/.kaggle\n",
        "\n",
        "! cp kaggle.json ~/.kaggle/"
      ]
    },
    {
      "cell_type": "code",
      "execution_count": 6,
      "metadata": {
        "id": "hqTEWApgPhvC"
      },
      "outputs": [],
      "source": [
        "! chmod 600 ~/.kaggle/kaggle.json"
      ]
    },
    {
      "cell_type": "code",
      "execution_count": 7,
      "metadata": {
        "colab": {
          "base_uri": "https://localhost:8080/"
        },
        "id": "lE4KzJL7PkWA",
        "outputId": "630bbe20-8b6f-4396-c939-dec4d12bc34a"
      },
      "outputs": [
        {
          "output_type": "stream",
          "name": "stdout",
          "text": [
            "ref                                                            title                                                size  lastUpdated          downloadCount  voteCount  usabilityRating  \n",
            "-------------------------------------------------------------  --------------------------------------------------  -----  -------------------  -------------  ---------  ---------------  \n",
            "iamsouravbanerjee/world-population-dataset                     World Population Dataset                             17KB  2022-08-31 11:20:04           5350        176  1.0              \n",
            "kaggleashwin/population-dataset                                World Population by Countries Dataset (1960-2021)    69KB  2022-08-31 05:30:26           1579         70  1.0              \n",
            "iamsouravbanerjee/house-rent-prediction-dataset                House Rent Prediction Dataset                        82KB  2022-08-20 13:49:03          11449        298  1.0              \n",
            "pantanjali/unemployment-dataset                                Unemployment dataset                                 17KB  2022-09-08 08:26:10            983         41  1.0              \n",
            "ariyoomotade/netflix-data-cleaning-analysis-and-visualization  Netflix Data: Cleaning, Analysis and Visualization  270KB  2022-08-26 09:25:43           3394         87  1.0              \n",
            "rohitmahulkar/online-retails-sale-dataset                      Online Retails Sale Dataset                           8MB  2022-08-25 18:04:52            949         26  0.9411765        \n",
            "deepcontractor/smoke-detection-dataset                         Smoke Detection Dataset                               2MB  2022-08-21 06:29:34           2101         78  1.0              \n",
            "estienneggx/spotify-unpopular-songs                            Spotify unpopular songs                             737KB  2022-09-04 22:10:41            884         37  1.0              \n",
            "evangower/chocolate-bar-ratings                                Chocolate Bar Ratings                                64KB  2022-09-06 15:37:56            493         33  1.0              \n",
            "sveta151/tiktok-popular-songs-2020                             TikTok popular songs 2020                            17KB  2022-08-22 10:49:13            521         25  0.9411765        \n",
            "arianazmoudeh/airbnbopendata                                   Airbnb Open Data                                     10MB  2022-08-01 15:58:10           4436        125  0.9705882        \n",
            "totoro29/imdb-movies                                           IMDB Movies                                         668KB  2022-08-22 13:43:25            592         30  0.9411765        \n",
            "samuelcortinhas/gdp-of-european-countries                      GDP of European countries                            795B  2022-09-01 13:15:51            359         30  1.0              \n",
            "advaypatil/youtube-statistics                                  Youtube Statistics                                    2MB  2022-08-26 02:03:19           1192         48  1.0              \n",
            "sveta151/spotify-top-chart-songs-2022                          Spotify top chart songs 2022                         45KB  2022-09-05 07:59:27            642         33  1.0              \n",
            "sveta151/tiktok-popular-songs-2021                             TikTok popular songs 2021                            11KB  2022-08-22 11:02:34            969         36  1.0              \n",
            "yasirabdaali/corona-virus-covid19-us-counties                  Corona Virus Covid-19  US Counties                   75MB  2022-08-22 02:38:55            600         25  0.9411765        \n",
            "surajjha101/fortune-top-1000-companies-by-revenue-2022         Fortune Top 1000 Companies by Revenue 2022           37KB  2022-08-28 06:43:27            821         47  1.0              \n",
            "dansbecker/melbourne-housing-snapshot                          Melbourne Housing Snapshot                          451KB  2018-06-05 12:52:24          95317       1136  0.7058824        \n",
            "zwl1234/top-50-bestselling-novels-20092021-of-amazon           Top 50 Bestselling Novels 2009-2021 of Amazon        36KB  2022-08-29 15:50:47            997         30  1.0              \n"
          ]
        }
      ],
      "source": [
        "! kaggle datasets list"
      ]
    },
    {
      "cell_type": "code",
      "execution_count": 8,
      "metadata": {
        "colab": {
          "base_uri": "https://localhost:8080/"
        },
        "id": "Tb3SWxsnQfDG",
        "outputId": "b93e69cb-ab88-4aa7-db59-c8c0908c8e74"
      },
      "outputs": [
        {
          "output_type": "stream",
          "name": "stdout",
          "text": [
            "airline-delay-and-cancellation-data-2009-2018.zip: Skipping, found more recently modified local copy (use --force to force download)\n"
          ]
        }
      ],
      "source": [
        "!kaggle datasets download -d yuanyuwendymu/airline-delay-and-cancellation-data-2009-2018"
      ]
    },
    {
      "cell_type": "code",
      "execution_count": 9,
      "metadata": {
        "id": "l8XtjtkFQmCt"
      },
      "outputs": [],
      "source": [
        "import zipfile\n",
        "path = 'airline-delay-and-cancellation-data-2009-2018.zip'\n",
        "folder = 'data'\n",
        "with zipfile.ZipFile(path, 'r') as zip_ref:\n",
        "    zip_ref.extractall(folder)"
      ]
    },
    {
      "cell_type": "code",
      "execution_count": 10,
      "metadata": {
        "colab": {
          "base_uri": "https://localhost:8080/"
        },
        "id": "tvsWFTiwR8KS",
        "outputId": "5236bf40-2e2d-4a23-d791-66faa4e1c25d"
      },
      "outputs": [
        {
          "output_type": "stream",
          "name": "stdout",
          "text": [
            "root\n",
            " |-- FL_DATE: string (nullable = true)\n",
            " |-- OP_CARRIER: string (nullable = true)\n",
            " |-- OP_CARRIER_FL_NUM: string (nullable = true)\n",
            " |-- ORIGIN: string (nullable = true)\n",
            " |-- DEST: string (nullable = true)\n",
            " |-- CRS_DEP_TIME: string (nullable = true)\n",
            " |-- DEP_TIME: string (nullable = true)\n",
            " |-- DEP_DELAY: string (nullable = true)\n",
            " |-- TAXI_OUT: string (nullable = true)\n",
            " |-- WHEELS_OFF: string (nullable = true)\n",
            " |-- WHEELS_ON: string (nullable = true)\n",
            " |-- TAXI_IN: string (nullable = true)\n",
            " |-- CRS_ARR_TIME: string (nullable = true)\n",
            " |-- ARR_TIME: string (nullable = true)\n",
            " |-- ARR_DELAY: string (nullable = true)\n",
            " |-- CANCELLED: string (nullable = true)\n",
            " |-- CANCELLATION_CODE: string (nullable = true)\n",
            " |-- DIVERTED: string (nullable = true)\n",
            " |-- CRS_ELAPSED_TIME: string (nullable = true)\n",
            " |-- ACTUAL_ELAPSED_TIME: string (nullable = true)\n",
            " |-- AIR_TIME: string (nullable = true)\n",
            " |-- DISTANCE: string (nullable = true)\n",
            " |-- CARRIER_DELAY: string (nullable = true)\n",
            " |-- WEATHER_DELAY: string (nullable = true)\n",
            " |-- NAS_DELAY: string (nullable = true)\n",
            " |-- SECURITY_DELAY: string (nullable = true)\n",
            " |-- LATE_AIRCRAFT_DELAY: string (nullable = true)\n",
            " |-- Unnamed: 27: string (nullable = true)\n",
            "\n"
          ]
        }
      ],
      "source": [
        "import findspark\n",
        "findspark.init()\n",
        "\n",
        "import pyspark\n",
        "from pyspark.sql import SparkSession\n",
        "\n",
        "spark = SparkSession.builder.master('local[1]') \\\n",
        "                    .appName('FinalProject') \\\n",
        "                    .getOrCreate()\n",
        "\n",
        "df = spark.read.option('header', True) \\\n",
        "     .csv(['data/2018.csv', 'data/2017.csv', 'data/2016.csv', 'data/2015.csv', 'data/2014.csv', \\\n",
        "           'data/2013.csv', 'data/2012.csv', 'data/2011.csv', 'data/2010.csv', 'data/2009.csv'])\n",
        "df.printSchema()\n"
      ]
    },
    {
      "cell_type": "code",
      "execution_count": 11,
      "metadata": {
        "colab": {
          "base_uri": "https://localhost:8080/"
        },
        "id": "qUgY7PlZWo6d",
        "outputId": "df443266-ca31-4623-f432-7ca0e9091270"
      },
      "outputs": [
        {
          "output_type": "stream",
          "name": "stdout",
          "text": [
            "+----------+----------+-----------------+------+----+------------+--------+---------+--------+----------+---------+-------+------------+--------+---------+---------+-----------------+--------+----------------+-------------------+--------+--------+-------------+-------------+---------+--------------+-------------------+-----------+\n",
            "|   FL_DATE|OP_CARRIER|OP_CARRIER_FL_NUM|ORIGIN|DEST|CRS_DEP_TIME|DEP_TIME|DEP_DELAY|TAXI_OUT|WHEELS_OFF|WHEELS_ON|TAXI_IN|CRS_ARR_TIME|ARR_TIME|ARR_DELAY|CANCELLED|CANCELLATION_CODE|DIVERTED|CRS_ELAPSED_TIME|ACTUAL_ELAPSED_TIME|AIR_TIME|DISTANCE|CARRIER_DELAY|WEATHER_DELAY|NAS_DELAY|SECURITY_DELAY|LATE_AIRCRAFT_DELAY|Unnamed: 27|\n",
            "+----------+----------+-----------------+------+----+------------+--------+---------+--------+----------+---------+-------+------------+--------+---------+---------+-----------------+--------+----------------+-------------------+--------+--------+-------------+-------------+---------+--------------+-------------------+-----------+\n",
            "|2018-01-01|        UA|             2429|   EWR| DEN|        1517|  1512.0|     -5.0|    15.0|    1527.0|   1712.0|   10.0|        1745|  1722.0|    -23.0|      0.0|             null|     0.0|           268.0|              250.0|   225.0|  1605.0|         null|         null|     null|          null|               null|       null|\n",
            "|2018-01-01|        UA|             2427|   LAS| SFO|        1115|  1107.0|     -8.0|    11.0|    1118.0|   1223.0|    7.0|        1254|  1230.0|    -24.0|      0.0|             null|     0.0|            99.0|               83.0|    65.0|   414.0|         null|         null|     null|          null|               null|       null|\n",
            "|2018-01-01|        UA|             2426|   SNA| DEN|        1335|  1330.0|     -5.0|    15.0|    1345.0|   1631.0|    5.0|        1649|  1636.0|    -13.0|      0.0|             null|     0.0|           134.0|              126.0|   106.0|   846.0|         null|         null|     null|          null|               null|       null|\n",
            "|2018-01-01|        UA|             2425|   RSW| ORD|        1546|  1552.0|      6.0|    19.0|    1611.0|   1748.0|    6.0|        1756|  1754.0|     -2.0|      0.0|             null|     0.0|           190.0|              182.0|   157.0|  1120.0|         null|         null|     null|          null|               null|       null|\n",
            "|2018-01-01|        UA|             2424|   ORD| ALB|         630|   650.0|     20.0|    13.0|     703.0|    926.0|   10.0|         922|   936.0|     14.0|      0.0|             null|     0.0|           112.0|              106.0|    83.0|   723.0|         null|         null|     null|          null|               null|       null|\n",
            "+----------+----------+-----------------+------+----+------------+--------+---------+--------+----------+---------+-------+------------+--------+---------+---------+-----------------+--------+----------------+-------------------+--------+--------+-------------+-------------+---------+--------------+-------------------+-----------+\n",
            "only showing top 5 rows\n",
            "\n"
          ]
        }
      ],
      "source": [
        "df.show(5)"
      ]
    },
    {
      "cell_type": "markdown",
      "metadata": {
        "id": "UKXXaQRT1Ho9"
      },
      "source": [
        "Since we are only considering information prior to flight departure, we are going to keep only the columns that provide us that information"
      ]
    },
    {
      "cell_type": "code",
      "execution_count": 12,
      "metadata": {
        "colab": {
          "base_uri": "https://localhost:8080/"
        },
        "id": "s_MuMHyq10pV",
        "outputId": "bb6e56a3-a3e0-4f1b-ea8b-800b1ecf27fa"
      },
      "outputs": [
        {
          "output_type": "stream",
          "name": "stdout",
          "text": [
            "+----------+----------+------+----+------------+------------+---------+----------------+--------+\n",
            "|   FL_DATE|OP_CARRIER|ORIGIN|DEST|CRS_DEP_TIME|CRS_ARR_TIME|CANCELLED|CRS_ELAPSED_TIME|DISTANCE|\n",
            "+----------+----------+------+----+------------+------------+---------+----------------+--------+\n",
            "|2018-01-01|        UA|   EWR| DEN|        1517|        1745|      0.0|           268.0|  1605.0|\n",
            "|2018-01-01|        UA|   LAS| SFO|        1115|        1254|      0.0|            99.0|   414.0|\n",
            "|2018-01-01|        UA|   SNA| DEN|        1335|        1649|      0.0|           134.0|   846.0|\n",
            "|2018-01-01|        UA|   RSW| ORD|        1546|        1756|      0.0|           190.0|  1120.0|\n",
            "|2018-01-01|        UA|   ORD| ALB|         630|         922|      0.0|           112.0|   723.0|\n",
            "|2018-01-01|        UA|   ORD| OMA|        2241|          14|      0.0|            93.0|   416.0|\n",
            "|2018-01-01|        UA|   IAH| LAS|         750|         916|      0.0|           206.0|  1222.0|\n",
            "|2018-01-01|        UA|   DEN| CID|        1324|        1619|      0.0|           115.0|   692.0|\n",
            "|2018-01-01|        UA|   SMF| EWR|        2224|         638|      0.0|           314.0|  2500.0|\n",
            "|2018-01-01|        UA|   RIC| DEN|        1601|        1813|      0.0|           252.0|  1482.0|\n",
            "+----------+----------+------+----+------------+------------+---------+----------------+--------+\n",
            "only showing top 10 rows\n",
            "\n"
          ]
        }
      ],
      "source": [
        "columns_to_keep = ['FL_DATE', 'OP_CARRIER', 'ORIGIN', 'DEST', 'CRS_DEP_TIME', 'CRS_ARR_TIME', 'CANCELLED', 'CRS_ELAPSED_TIME', 'DISTANCE']\n",
        "\n",
        "df = df.select(columns_to_keep)\n",
        "\n",
        "df.show(10)"
      ]
    },
    {
      "cell_type": "markdown",
      "metadata": {
        "id": "xdprMAwQztPL"
      },
      "source": [
        "Let's see the distribution of the classes in our dataset"
      ]
    },
    {
      "cell_type": "code",
      "execution_count": 14,
      "metadata": {
        "colab": {
          "base_uri": "https://localhost:8080/"
        },
        "id": "nn-du5PT5wzR",
        "outputId": "31c988b6-b407-42c3-901a-0e4aa21d64d9"
      },
      "outputs": [
        {
          "output_type": "stream",
          "name": "stdout",
          "text": [
            "+---------+--------+\n",
            "|CANCELLED|   count|\n",
            "+---------+--------+\n",
            "|      1.0|  973209|\n",
            "|      0.0|60583755|\n",
            "+---------+--------+\n",
            "\n"
          ]
        }
      ],
      "source": [
        "df.groupBy('CANCELLED').count().show()"
      ]
    },
    {
      "cell_type": "markdown",
      "metadata": {
        "id": "pddEL3iXyMZN"
      },
      "source": [
        "Since we have much more items from the non cancelled class, and we have over 7 million elements, we are going to undersample the majority class in order to balance our dataset. In addition, we are going to keep the 10% of all samples to simplify the process of preparing features, model training and evaluation"
      ]
    },
    {
      "cell_type": "code",
      "execution_count": 15,
      "metadata": {
        "id": "iQf6_uSPwIFd"
      },
      "outputs": [],
      "source": [
        "from pyspark.sql.functions import col\n",
        "\n",
        "def resample(dataframe, column, positive_value):\n",
        "    positives = dataframe.filter(col(column) == positive_value)\n",
        "    negatives = dataframe.filter(col(column) != positive_value)\n",
        "    total_positives = positives.count()\n",
        "    total_negatives = negatives.count()\n",
        "    ratio = float(total_positives) / float(total_negatives)\n",
        "    sampled = negatives.sample(False, ratio)\n",
        "    return sampled.union(positives).sample(0.1)\n",
        "\n",
        "df = resample(df, 'CANCELLED', '1.0')\n"
      ]
    },
    {
      "cell_type": "code",
      "execution_count": 16,
      "metadata": {
        "colab": {
          "base_uri": "https://localhost:8080/"
        },
        "id": "CpYDqB5x1rVn",
        "outputId": "3ed14e9d-78ae-4551-ed9e-23b6d60d43ab"
      },
      "outputs": [
        {
          "output_type": "stream",
          "name": "stdout",
          "text": [
            "+---------+-----+\n",
            "|CANCELLED|count|\n",
            "+---------+-----+\n",
            "|      0.0|96766|\n",
            "|      1.0|97347|\n",
            "+---------+-----+\n",
            "\n"
          ]
        }
      ],
      "source": [
        "df.groupBy('CANCELLED').count().show()"
      ]
    },
    {
      "cell_type": "markdown",
      "metadata": {
        "id": "OX_BqeueTtQd"
      },
      "source": [
        "Now our dataset is balanced. Now we are going to divide the flight date column into two new columns: weekday and month, in order to prepare this variable for the model"
      ]
    },
    {
      "cell_type": "code",
      "execution_count": 17,
      "metadata": {
        "colab": {
          "base_uri": "https://localhost:8080/"
        },
        "id": "eNNEwpQG9Fpq",
        "outputId": "f4f878d8-9ad8-4d5a-e918-f525e3ac3d59"
      },
      "outputs": [
        {
          "output_type": "stream",
          "name": "stdout",
          "text": [
            "+----------+------+----+------------+------------+---------+----------------+--------+---------------+-------------+\n",
            "|OP_CARRIER|ORIGIN|DEST|CRS_DEP_TIME|CRS_ARR_TIME|CANCELLED|CRS_ELAPSED_TIME|DISTANCE|FL_DATE_WEEKDAY|FL_DATE_MONTH|\n",
            "+----------+------+----+------------+------------+---------+----------------+--------+---------------+-------------+\n",
            "|        UA|   EWR| BOS|        1225|        1337|      0.0|            72.0|   200.0|              2|            1|\n",
            "|        UA|   BOS| SFO|         915|        1300|      0.0|           405.0|  2704.0|              2|            1|\n",
            "|        AS|   BWI| SEA|        1915|        2225|      0.0|           370.0|  2335.0|              2|            1|\n",
            "|        9E|   MSP| DFW|        1515|        1808|      0.0|           173.0|   852.0|              2|            1|\n",
            "|        B6|   JFK| JAX|        2030|        2311|      0.0|           161.0|   828.0|              2|            1|\n",
            "|        EV|   GPT| IAH|        1150|        1326|      0.0|            96.0|   376.0|              2|            1|\n",
            "|        EV|   EWR| MKE|        1500|        1636|      0.0|           156.0|   725.0|              2|            1|\n",
            "|        EV|   IAH| GRK|        2155|        2259|      0.0|            64.0|   166.0|              2|            1|\n",
            "|        MQ|   XNA| ORD|        1719|        1913|      0.0|           114.0|   522.0|              2|            1|\n",
            "|        NK|   SAN| LAS|        2040|        2157|      0.0|            77.0|   258.0|              2|            1|\n",
            "+----------+------+----+------------+------------+---------+----------------+--------+---------------+-------------+\n",
            "only showing top 10 rows\n",
            "\n"
          ]
        }
      ],
      "source": [
        "from pyspark.sql.functions import dayofweek, month\n",
        "\n",
        "df = df.withColumn('FL_DATE_WEEKDAY', dayofweek('FL_DATE')).withColumn('FL_DATE_MONTH', month('FL_DATE'))\n",
        "df = df.drop(df.FL_DATE)\n",
        "df.show(10)"
      ]
    },
    {
      "cell_type": "markdown",
      "metadata": {
        "id": "gGMXdI5H4Prn"
      },
      "source": [
        "Our next step will be turning the column OP_CARRIER, which is the airline of the flight, into a numerical column, called AIRLINE_ID"
      ]
    },
    {
      "cell_type": "code",
      "execution_count": 18,
      "metadata": {
        "colab": {
          "base_uri": "https://localhost:8080/"
        },
        "id": "XcAYJlfAHeOL",
        "outputId": "4984b26e-45a5-4274-90f8-39068520ffa7"
      },
      "outputs": [
        {
          "output_type": "stream",
          "name": "stdout",
          "text": [
            "+------+----+------------+------------+---------+----------------+--------+---------------+-------------+----------+\n",
            "|ORIGIN|DEST|CRS_DEP_TIME|CRS_ARR_TIME|CANCELLED|CRS_ELAPSED_TIME|DISTANCE|FL_DATE_WEEKDAY|FL_DATE_MONTH|AIRLINE_ID|\n",
            "+------+----+------------+------------+---------+----------------+--------+---------------+-------------+----------+\n",
            "|   EWR| BOS|        1225|        1337|      0.0|            72.0|   200.0|              2|            1|       6.0|\n",
            "|   BOS| SFO|         915|        1300|      0.0|           405.0|  2704.0|              2|            1|       6.0|\n",
            "|   BWI| SEA|        1915|        2225|      0.0|           370.0|  2335.0|              2|            1|      12.0|\n",
            "|   MSP| DFW|        1515|        1808|      0.0|           173.0|   852.0|              2|            1|      10.0|\n",
            "|   JFK| JAX|        2030|        2311|      0.0|           161.0|   828.0|              2|            1|       7.0|\n",
            "|   GPT| IAH|        1150|        1326|      0.0|            96.0|   376.0|              2|            1|       3.0|\n",
            "|   EWR| MKE|        1500|        1636|      0.0|           156.0|   725.0|              2|            1|       3.0|\n",
            "|   IAH| GRK|        2155|        2259|      0.0|            64.0|   166.0|              2|            1|       3.0|\n",
            "|   XNA| ORD|        1719|        1913|      0.0|           114.0|   522.0|              2|            1|       5.0|\n",
            "|   SAN| LAS|        2040|        2157|      0.0|            77.0|   258.0|              2|            1|      16.0|\n",
            "+------+----+------------+------------+---------+----------------+--------+---------------+-------------+----------+\n",
            "only showing top 10 rows\n",
            "\n"
          ]
        }
      ],
      "source": [
        "from pyspark.ml.feature import StringIndexer\n",
        "\n",
        "indexer = StringIndexer(inputCol = 'OP_CARRIER', outputCol = 'AIRLINE_ID') \n",
        "df = indexer.fit(df).transform(df) \n",
        "df = df.drop(df.OP_CARRIER)\n",
        "\n",
        "df.show(10)"
      ]
    },
    {
      "cell_type": "markdown",
      "metadata": {
        "id": "CtTtnVAc4b-B"
      },
      "source": [
        "Let's do the same now for the ORIGIN and DEST columns"
      ]
    },
    {
      "cell_type": "code",
      "execution_count": 19,
      "metadata": {
        "colab": {
          "base_uri": "https://localhost:8080/"
        },
        "id": "DzbwAZk9Qnms",
        "outputId": "25e57c36-f4c6-4452-c70e-30b0244c0934"
      },
      "outputs": [
        {
          "output_type": "stream",
          "name": "stdout",
          "text": [
            "+------------+------------+---------+----------------+--------+---------------+-------------+----------+---------+-------+\n",
            "|CRS_DEP_TIME|CRS_ARR_TIME|CANCELLED|CRS_ELAPSED_TIME|DISTANCE|FL_DATE_WEEKDAY|FL_DATE_MONTH|AIRLINE_ID|ORIGIN_ID|DEST_ID|\n",
            "+------------+------------+---------+----------------+--------+---------------+-------------+----------+---------+-------+\n",
            "|        1225|        1337|      0.0|            72.0|   200.0|              2|            1|       6.0|    248.0|  319.0|\n",
            "|         915|        1300|      0.0|           405.0|  2704.0|              2|            1|       6.0|    321.0|   51.0|\n",
            "|        1915|        2225|      0.0|           370.0|  2335.0|              2|            1|      12.0|    309.0|   53.0|\n",
            "|        1515|        1808|      0.0|           173.0|   852.0|              2|            1|      10.0|    126.0|  268.0|\n",
            "|        2030|        2311|      0.0|           161.0|   828.0|              2|            1|       7.0|    181.0|  182.0|\n",
            "|        1150|        1326|      0.0|            96.0|   376.0|              2|            1|       3.0|    226.0|  198.0|\n",
            "|        1500|        1636|      0.0|           156.0|   725.0|              2|            1|       3.0|    248.0|  137.0|\n",
            "|        2155|        2259|      0.0|            64.0|   166.0|              2|            1|       3.0|    198.0|  222.0|\n",
            "|        1719|        1913|      0.0|           114.0|   522.0|              2|            1|       5.0|      2.0|  110.0|\n",
            "|        2040|        2157|      0.0|            77.0|   258.0|              2|            1|      16.0|     63.0|  173.0|\n",
            "+------------+------------+---------+----------------+--------+---------------+-------------+----------+---------+-------+\n",
            "only showing top 10 rows\n",
            "\n"
          ]
        }
      ],
      "source": [
        "indexer = StringIndexer(inputCol = 'ORIGIN', outputCol = 'ORIGIN_ID', stringOrderType = 'alphabetDesc') \n",
        "df = indexer.fit(df).transform(df) \n",
        "df = df.drop(df.ORIGIN)\n",
        "\n",
        "indexer = StringIndexer(inputCol = 'DEST', outputCol = 'DEST_ID', stringOrderType = 'alphabetDesc') \n",
        "df = indexer.fit(df).transform(df) \n",
        "df = df.drop(df.DEST)\n",
        "\n",
        "df.show(10)"
      ]
    },
    {
      "cell_type": "markdown",
      "metadata": {
        "id": "ytPLP1Hm4lWM"
      },
      "source": [
        "Finally, we are going to drop the CRS_ARR_TIME and DISTANCE columns, since they have a strong correlation with the CRS_DEP_TIME and CRS_ELAPSED_TIME columns, respectively. We are going to keep the latter ones because their values are lower and have less variance."
      ]
    },
    {
      "cell_type": "code",
      "execution_count": 20,
      "metadata": {
        "colab": {
          "base_uri": "https://localhost:8080/"
        },
        "id": "OE48MpU3TNuA",
        "outputId": "258dc773-e9fa-4e5b-c523-9c0e9af3edbd"
      },
      "outputs": [
        {
          "output_type": "stream",
          "name": "stdout",
          "text": [
            "+------------+---------+----------------+---------------+-------------+----------+---------+-------+\n",
            "|CRS_DEP_TIME|CANCELLED|CRS_ELAPSED_TIME|FL_DATE_WEEKDAY|FL_DATE_MONTH|AIRLINE_ID|ORIGIN_ID|DEST_ID|\n",
            "+------------+---------+----------------+---------------+-------------+----------+---------+-------+\n",
            "|        1225|      0.0|            72.0|              2|            1|       6.0|    248.0|  319.0|\n",
            "|         915|      0.0|           405.0|              2|            1|       6.0|    321.0|   51.0|\n",
            "|        1915|      0.0|           370.0|              2|            1|      12.0|    309.0|   53.0|\n",
            "|        1515|      0.0|           173.0|              2|            1|      10.0|    126.0|  268.0|\n",
            "|        2030|      0.0|           161.0|              2|            1|       7.0|    181.0|  182.0|\n",
            "|        1150|      0.0|            96.0|              2|            1|       3.0|    226.0|  198.0|\n",
            "|        1500|      0.0|           156.0|              2|            1|       3.0|    248.0|  137.0|\n",
            "|        2155|      0.0|            64.0|              2|            1|       3.0|    198.0|  222.0|\n",
            "|        1719|      0.0|           114.0|              2|            1|       5.0|      2.0|  110.0|\n",
            "|        2040|      0.0|            77.0|              2|            1|      16.0|     63.0|  173.0|\n",
            "+------------+---------+----------------+---------------+-------------+----------+---------+-------+\n",
            "only showing top 10 rows\n",
            "\n"
          ]
        }
      ],
      "source": [
        "df = df.drop('CRS_ARR_TIME', 'DISTANCE')\n",
        "df.show(10)"
      ]
    },
    {
      "cell_type": "markdown",
      "metadata": {
        "id": "XqRNq6XD5AVd"
      },
      "source": [
        "As last steps of cleaning and preparing the datasets, we will select the final list of features for our model in order to normalize them and remove any that has some missing value"
      ]
    },
    {
      "cell_type": "code",
      "execution_count": 21,
      "metadata": {
        "id": "CocU4QrpTGln"
      },
      "outputs": [],
      "source": [
        "cols_to_normalize = ['CRS_DEP_TIME', 'CRS_ELAPSED_TIME', 'FL_DATE_WEEKDAY','FL_DATE_MONTH','AIRLINE_ID', 'ORIGIN_ID','DEST_ID']\n",
        "\n",
        "df = df.dropna(how = 'any')"
      ]
    },
    {
      "cell_type": "code",
      "execution_count": 22,
      "metadata": {
        "colab": {
          "base_uri": "https://localhost:8080/"
        },
        "id": "6SJQ7KswnB56",
        "outputId": "3f106f68-1100-424a-a13f-e78766625e0f"
      },
      "outputs": [
        {
          "output_type": "stream",
          "name": "stdout",
          "text": [
            "root\n",
            " |-- CRS_DEP_TIME: string (nullable = true)\n",
            " |-- CANCELLED: string (nullable = true)\n",
            " |-- CRS_ELAPSED_TIME: string (nullable = true)\n",
            " |-- FL_DATE_WEEKDAY: integer (nullable = true)\n",
            " |-- FL_DATE_MONTH: integer (nullable = true)\n",
            " |-- AIRLINE_ID: double (nullable = false)\n",
            " |-- ORIGIN_ID: double (nullable = false)\n",
            " |-- DEST_ID: double (nullable = false)\n",
            "\n"
          ]
        }
      ],
      "source": [
        "df.printSchema()"
      ]
    },
    {
      "cell_type": "markdown",
      "metadata": {
        "id": "D3sk2YTs5WGr"
      },
      "source": [
        "We are going to transform the columns that are strings into integers in order to build the vector of features correctly"
      ]
    },
    {
      "cell_type": "code",
      "execution_count": 23,
      "metadata": {
        "id": "9vZB6g-onWyI"
      },
      "outputs": [],
      "source": [
        "df = df.withColumn('CRS_DEP_TIME', df.CRS_DEP_TIME.cast('int')) \\\n",
        "        .withColumn('CANCELLED', df.CANCELLED.cast('int')) \\\n",
        "        .withColumn('CRS_ELAPSED_TIME', df.CRS_ELAPSED_TIME.cast('int'))"
      ]
    },
    {
      "cell_type": "code",
      "execution_count": 24,
      "metadata": {
        "colab": {
          "base_uri": "https://localhost:8080/"
        },
        "id": "vlBoEmizoT1s",
        "outputId": "a264da30-454a-49fa-8e04-07cd933ae1e1"
      },
      "outputs": [
        {
          "output_type": "stream",
          "name": "stdout",
          "text": [
            "root\n",
            " |-- CRS_DEP_TIME: integer (nullable = true)\n",
            " |-- CANCELLED: integer (nullable = true)\n",
            " |-- CRS_ELAPSED_TIME: integer (nullable = true)\n",
            " |-- FL_DATE_WEEKDAY: integer (nullable = true)\n",
            " |-- FL_DATE_MONTH: integer (nullable = true)\n",
            " |-- AIRLINE_ID: double (nullable = false)\n",
            " |-- ORIGIN_ID: double (nullable = false)\n",
            " |-- DEST_ID: double (nullable = false)\n",
            "\n"
          ]
        }
      ],
      "source": [
        "df.printSchema()"
      ]
    },
    {
      "cell_type": "markdown",
      "metadata": {
        "id": "bAkAImYU5mEd"
      },
      "source": [
        "Adding a new column with the vectorized features"
      ]
    },
    {
      "cell_type": "code",
      "execution_count": 25,
      "metadata": {
        "colab": {
          "base_uri": "https://localhost:8080/"
        },
        "id": "lb91A5Ghh9pD",
        "outputId": "ac9912d6-4533-4326-de16-a0cda3cc3a66"
      },
      "outputs": [
        {
          "output_type": "stream",
          "name": "stdout",
          "text": [
            "+------------+---------+----------------+---------------+-------------+----------+---------+-------+--------------------+\n",
            "|CRS_DEP_TIME|CANCELLED|CRS_ELAPSED_TIME|FL_DATE_WEEKDAY|FL_DATE_MONTH|AIRLINE_ID|ORIGIN_ID|DEST_ID| vectorized_features|\n",
            "+------------+---------+----------------+---------------+-------------+----------+---------+-------+--------------------+\n",
            "|        1225|        0|              72|              2|            1|       6.0|    248.0|  319.0|[1225.0,72.0,2.0,...|\n",
            "|         915|        0|             405|              2|            1|       6.0|    321.0|   51.0|[915.0,405.0,2.0,...|\n",
            "|        1915|        0|             370|              2|            1|      12.0|    309.0|   53.0|[1915.0,370.0,2.0...|\n",
            "|        1515|        0|             173|              2|            1|      10.0|    126.0|  268.0|[1515.0,173.0,2.0...|\n",
            "|        2030|        0|             161|              2|            1|       7.0|    181.0|  182.0|[2030.0,161.0,2.0...|\n",
            "|        1150|        0|              96|              2|            1|       3.0|    226.0|  198.0|[1150.0,96.0,2.0,...|\n",
            "|        1500|        0|             156|              2|            1|       3.0|    248.0|  137.0|[1500.0,156.0,2.0...|\n",
            "|        2155|        0|              64|              2|            1|       3.0|    198.0|  222.0|[2155.0,64.0,2.0,...|\n",
            "|        1719|        0|             114|              2|            1|       5.0|      2.0|  110.0|[1719.0,114.0,2.0...|\n",
            "|        2040|        0|              77|              2|            1|      16.0|     63.0|  173.0|[2040.0,77.0,2.0,...|\n",
            "+------------+---------+----------------+---------------+-------------+----------+---------+-------+--------------------+\n",
            "only showing top 10 rows\n",
            "\n"
          ]
        }
      ],
      "source": [
        "from pyspark.ml.feature import VectorAssembler\n",
        "\n",
        "assembler = VectorAssembler().setInputCols(cols_to_normalize).setOutputCol('vectorized_features')\n",
        "df = assembler.transform(df)\n",
        "df.show(10)"
      ]
    },
    {
      "cell_type": "markdown",
      "metadata": {
        "id": "39Bc2aDh5pFC"
      },
      "source": [
        "Normalizing the features vector and getting the final vector that will be the input for our model"
      ]
    },
    {
      "cell_type": "code",
      "execution_count": 26,
      "metadata": {
        "colab": {
          "base_uri": "https://localhost:8080/"
        },
        "id": "2cH6b61KorqQ",
        "outputId": "d9016fae-0e3f-4804-880a-11e267c71e8f"
      },
      "outputs": [
        {
          "output_type": "stream",
          "name": "stdout",
          "text": [
            "+------------+---------+----------------+---------------+-------------+----------+---------+-------+--------------------+--------------------+\n",
            "|CRS_DEP_TIME|CANCELLED|CRS_ELAPSED_TIME|FL_DATE_WEEKDAY|FL_DATE_MONTH|AIRLINE_ID|ORIGIN_ID|DEST_ID| vectorized_features|            features|\n",
            "+------------+---------+----------------+---------------+-------------+----------+---------+-------+--------------------+--------------------+\n",
            "|        1225|        0|              72|              2|            1|       6.0|    248.0|  319.0|[1225.0,72.0,2.0,...|[2.55570946757757...|\n",
            "|         915|        0|             405|              2|            1|       6.0|    321.0|   51.0|[915.0,405.0,2.0,...|[1.90895850027222...|\n",
            "|        1915|        0|             370|              2|            1|      12.0|    309.0|   53.0|[1915.0,370.0,2.0...|[3.99525194319269...|\n",
            "|        1515|        0|             173|              2|            1|      10.0|    126.0|  268.0|[1515.0,173.0,2.0...|[3.16073456602451...|\n",
            "|        2030|        0|             161|              2|            1|       7.0|    181.0|  182.0|[2030.0,161.0,2.0...|[4.23517568912855...|\n",
            "|        1150|        0|              96|              2|            1|       3.0|    226.0|  198.0|[1150.0,96.0,2.0,...|[2.39923745935853...|\n",
            "|        1500|        0|             156|              2|            1|       3.0|    248.0|  137.0|[1500.0,156.0,2.0...|[3.12944016438070...|\n",
            "|        2155|        0|              64|              2|            1|       3.0|    198.0|  222.0|[2155.0,64.0,2.0,...|[4.49596236949361...|\n",
            "|        1719|        0|             114|              2|            1|       5.0|      2.0|  110.0|[1719.0,114.0,2.0...|[3.58633842838028...|\n",
            "|        2040|        0|              77|              2|            1|      16.0|     63.0|  173.0|[2040.0,77.0,2.0,...|[4.25603862355775...|\n",
            "+------------+---------+----------------+---------------+-------------+----------+---------+-------+--------------------+--------------------+\n",
            "only showing top 10 rows\n",
            "\n"
          ]
        }
      ],
      "source": [
        "from pyspark.ml.feature import StandardScaler\n",
        "\n",
        "scaler = StandardScaler().setInputCol('vectorized_features').setOutputCol('features')\n",
        "df = scaler.fit(df).transform(df)\n",
        "df.show(10)"
      ]
    },
    {
      "cell_type": "markdown",
      "metadata": {
        "id": "-PLQ_9XO5s3A"
      },
      "source": [
        "Our dataset is ready to be trained. Let's split it and build our model with it. We will convert our PySpark Dataframes to NumPy arrays, in order to perform the mathematical operations with them"
      ]
    },
    {
      "cell_type": "code",
      "execution_count": 27,
      "metadata": {
        "id": "rznMKHIzGk5j"
      },
      "outputs": [],
      "source": [
        "train, test = df.randomSplit([0.8, 0.2])"
      ]
    },
    {
      "cell_type": "code",
      "execution_count": 28,
      "metadata": {
        "id": "Qs0wmx6oG8dv"
      },
      "outputs": [],
      "source": [
        "import numpy as np\n",
        "\n",
        "X_train = np.array(train.select('features').collect())\n",
        "X_train = np.reshape(X_train, (len(X_train), len(X_train[0][0])))\n",
        "\n",
        "X_test = np.array(test.select('features').collect())\n",
        "X_test = np.reshape(X_test, (len(X_test), len(X_test[0][0])))\n",
        "\n",
        "y_train = np.array(train.select('CANCELLED').collect())\n",
        "y_train = np.reshape(y_train, (len(y_train),))\n",
        "\n",
        "y_test = np.array(test.select('CANCELLED').collect())\n",
        "y_test = np.reshape(y_test, (len(y_test),))"
      ]
    },
    {
      "cell_type": "code",
      "execution_count": 29,
      "metadata": {
        "id": "ZwZ3wTK_1de4"
      },
      "outputs": [],
      "source": [
        "class LogisticRegression:\n",
        "    def __init__(self, learning_rate = 0.01, n_iterations = 1000, lambda_value = 1):\n",
        "        self.learning_rate = learning_rate\n",
        "        self.n_iterations = n_iterations\n",
        "        self.lambda_value = lambda_value\n",
        "        self.weights = None\n",
        "        self.bias = None\n",
        "        \n",
        "\n",
        "    def sigmoid(self, x):\n",
        "        return 1 / (1 + np.exp(-x))\n",
        "\n",
        "    def fit(self, X, y):        \n",
        "        M, N = X.shape\n",
        "\n",
        "        # First we initialize the weights vector, which has a size equal to \n",
        "        # the number of features, with zeros\n",
        "        # We also set the initial bias parameter to 0\n",
        "\n",
        "        self.weights = np.zeros(N)\n",
        "        self.bias = 0\n",
        "\n",
        "        # We initiate now the learning loop\n",
        "\n",
        "        for i in range(self.n_iterations):\n",
        "            # Calculate the prediction applying the y = w · x + b linear function.\n",
        "            # Then apply the sigmoid function to the linear prediction\n",
        "            # so that it returns a value between 0 and 1.\n",
        "\n",
        "            Z = np.dot(X, self.weights) + self.bias\n",
        "            y_predicted = self.sigmoid(Z)\n",
        "\n",
        "            # Calculate regularization term (L2) to apply it on the cost function\n",
        "            regularization_term = self.lambda_value * np.sum(np.square(self.weights)\n",
        "\n",
        "            # We now compute the cost using the log loss function, \n",
        "            # in order to test different hyperparameter settings\n",
        "            cost = - (1 / M) * np.sum(y * np.log(y_predicted) + (1 - y) *  np.log(1 - y_predicted)) + regularization_term\n",
        "\n",
        "            # Apply gradient descent to optimize weights and bias and update them\n",
        "            dW = (1 / M) * np.dot(X.T, (y_predicted - y))\n",
        "            dB = (1 / M) * np.sum(y_predicted - y)\n",
        "\n",
        "            self.weights = self.weights - self.learning_rate * dW\n",
        "            self.bias = self.bias - self.learning_rate * dB\n",
        "\n",
        "    def predict(self, X):\n",
        "        Z = np.dot(X, self.weights) + self.bias\n",
        "        y_predicted = self.sigmoid(Z)\n",
        "\n",
        "        y_predicted = [1 if i > 0.5 else 0 for i in y_predicted]\n",
        "\n",
        "        return np.array(y_predicted)\n",
        "    \n",
        "    def F1_score(self, y_test, y_predictions):\n",
        "      true_positives, true_negatives, false_positives, false_negatives = 0, 0, 0, 0\n",
        "\n",
        "      for i in range(len(y_test)):\n",
        "          if y_test[i] == 1 and y_predictions[i] == 1:\n",
        "              true_positives += 1\n",
        "          elif y_test[i] == 0 and y_predictions[i] == 1:\n",
        "              false_positives += 1\n",
        "          elif y_test[i] == 0 and y_predictions[i] == 0:\n",
        "              true_negatives += 1\n",
        "          elif y_test[i] == 1 and y_predictions[i] == 0:\n",
        "              false_negatives += 1\n",
        "\n",
        "      precision = true_positives / (true_positives + false_positives)\n",
        "      recall = true_positives / (true_positives + false_negatives)\n",
        "      F1_score = 2 * precision * recall / (precision + recall)\n",
        "      return F1_score"
      ]
    },
    {
      "cell_type": "code",
      "execution_count": 30,
      "metadata": {
        "id": "qZ1xDg-OH6ph"
      },
      "outputs": [],
      "source": [
        "model = LogisticRegression(learning_rate = 0.2, n_iterations = 1000, lambda_value = 1)\n",
        "model.fit(X_train, y_train)\n",
        "predictions = model.predict(X_test)"
      ]
    },
    {
      "cell_type": "markdown",
      "metadata": {
        "id": "yxRDX82cOeFr"
      },
      "source": [
        "Let's see the metrics for our model:"
      ]
    },
    {
      "cell_type": "code",
      "execution_count": 31,
      "metadata": {
        "colab": {
          "base_uri": "https://localhost:8080/"
        },
        "id": "Npvl83CZ2eWn",
        "outputId": "9d62eaed-ac52-4238-e9c3-e41a506a400e"
      },
      "outputs": [
        {
          "output_type": "stream",
          "name": "stdout",
          "text": [
            "              precision    recall  f1-score   support\n",
            "\n",
            "           0       0.58      0.55      0.57     19318\n",
            "           1       0.58      0.60      0.59     19567\n",
            "\n",
            "    accuracy                           0.58     38885\n",
            "   macro avg       0.58      0.58      0.58     38885\n",
            "weighted avg       0.58      0.58      0.58     38885\n",
            "\n"
          ]
        }
      ],
      "source": [
        "from sklearn.metrics import classification_report\n",
        "\n",
        "print(classification_report(y_test, predictions))"
      ]
    },
    {
      "cell_type": "code",
      "execution_count": 32,
      "metadata": {
        "colab": {
          "base_uri": "https://localhost:8080/",
          "height": 297
        },
        "id": "k1zLun0BPF0g",
        "outputId": "052898d3-61b2-4555-fe91-8eaad36a7e05"
      },
      "outputs": [
        {
          "output_type": "execute_result",
          "data": {
            "text/plain": [
              "<sklearn.metrics._plot.roc_curve.RocCurveDisplay at 0x7fc33b413bd0>"
            ]
          },
          "metadata": {},
          "execution_count": 32
        },
        {
          "output_type": "display_data",
          "data": {
            "text/plain": [
              "<Figure size 432x288 with 1 Axes>"
            ],
            "image/png": "[encoded data removed]"
          },
          "metadata": {
            "needs_background": "light"
          }
        }
      ],
      "source": [
        "from sklearn.metrics import RocCurveDisplay\n",
        "\n",
        "RocCurveDisplay.from_predictions(y_test, predictions)"
      ]
    },
    {
      "cell_type": "markdown",
      "source": [
        "Let's tune our model by using grid search, combining different hyperparameter values:"
      ],
      "metadata": {
        "id": "8qvYl9xkCmAv"
      }
    },
    {
      "cell_type": "code",
      "source": [
        "  best_F1_score = 0\n",
        "  best_n_iterations = 0\n",
        "  best_learning_rate = 0\n",
        "  best_lambda_value = 0\n",
        "    \n",
        "  # Different values for the combination of hyperparameters\n",
        "  learning_rates = [0.1, 0.2, 0.4, \n",
        "                    0.01, 0.02, 0.04]\n",
        " \n",
        "  n_iterations = [100, 200, 400, 500, 1000]\n",
        "\n",
        "  lambda_values = [0.001, 0.01, 0.1, 1, 10, 100]\n",
        "    \n",
        "  # Let's build the different combinations\n",
        "    \n",
        "  parameter_combinations = []    \n",
        "  for i in learning_rates:        \n",
        "      for j in n_iterations:          \n",
        "        parameter_combinations.append((i, j))\n",
        " \n",
        "  for k in range(len(parameter_combinations)):        \n",
        "      model = LogisticRegression(\n",
        "          learning_rate = parameter_combinations[k][0], \n",
        "          n_iterations = parameter_combinations[k][1])\n",
        "    \n",
        "      model.fit(X_train, y_train)\n",
        "      \n",
        "      y_pred = model.predict(X_test)\n",
        "      curr_F1_score = model.F1_score(y_test, y_pred)\n",
        "\n",
        "      if best_F1_score < curr_F1_score:            \n",
        "          best_F1_score = curr_F1_score\n",
        "          best_learning_rate = parameter_combinations[k][0]\n",
        "          best_n_iterations = parameter_combinations[k][1]"
      ],
      "metadata": {
        "id": "7tW4QIXzCvUZ"
      },
      "execution_count": 33,
      "outputs": []
    },
    {
      "cell_type": "markdown",
      "source": [
        "Now let's tune our regularization parameter (lambda value)"
      ],
      "metadata": {
        "id": "9sj6gmsqdSPr"
      }
    },
    {
      "cell_type": "code",
      "source": [
        "  for k in range(len(lambda_values)):\n",
        "      model = LogisticRegression(\n",
        "        learning_rate = best_learning_rate, \n",
        "        n_iterations = best_n_iterations,\n",
        "        lambda_value = k)\n",
        "      \n",
        "      model.fit(X_train, y_train)\n",
        "      y_pred = model.predict(X_test)\n",
        "      curr_F1_score = model.F1_score(y_test, y_pred)\n",
        "\n",
        "      if best_F1_score < curr_F1_score:            \n",
        "          best_F1_score = curr_F1_score\n",
        "          best_lambda_value = lambda_values[k]\n"
      ],
      "metadata": {
        "id": "vzWqQ-eVdVsT"
      },
      "execution_count": 34,
      "outputs": []
    },
    {
      "cell_type": "code",
      "source": [
        "print(\"Best combination of hyperparameters: \")\n",
        "print(\"LR: \", best_learning_rate, \" N. Iters: \", best_n_iterations, \" Lambda: \", best_lambda_value)"
      ],
      "metadata": {
        "colab": {
          "base_uri": "https://localhost:8080/"
        },
        "id": "Rorc1Hztf1zR",
        "outputId": "eed33c58-dc95-49a1-b8f6-db4fe0ddabdc"
      },
      "execution_count": 35,
      "outputs": [
        {
          "output_type": "stream",
          "name": "stdout",
          "text": [
            "Best combination of hyperparameters: \n",
            "LR:  0.4  N. Iters:  1000  Lambda:  0\n"
          ]
        }
      ]
    },
    {
      "cell_type": "code",
      "source": [
        "best_model = LogisticRegression(\n",
        "    learning_rate = best_learning_rate,\n",
        "    n_iterations = best_n_iterations,\n",
        "    lambda_value = best_lambda_value)\n",
        "\n",
        "best_model.fit(X_train, y_train)\n",
        "predictions = best_model.predict(X_test)\n",
        "\n",
        "print(classification_report(y_test, predictions))\n",
        "RocCurveDisplay.from_predictions(y_test, predictions)"
      ],
      "metadata": {
        "colab": {
          "base_uri": "https://localhost:8080/",
          "height": 459
        },
        "id": "8V5lX_jvEhsz",
        "outputId": "4a695339-3a71-402e-c47f-2cd6d8265e87"
      },
      "execution_count": 36,
      "outputs": [
        {
          "output_type": "stream",
          "name": "stdout",
          "text": [
            "              precision    recall  f1-score   support\n",
            "\n",
            "           0       0.67      0.01      0.03     19318\n",
            "           1       0.51      0.99      0.67     19567\n",
            "\n",
            "    accuracy                           0.51     38885\n",
            "   macro avg       0.59      0.50      0.35     38885\n",
            "weighted avg       0.58      0.51      0.35     38885\n",
            "\n"
          ]
        },
        {
          "output_type": "execute_result",
          "data": {
            "text/plain": [
              "<sklearn.metrics._plot.roc_curve.RocCurveDisplay at 0x7fc33b007110>"
            ]
          },
          "metadata": {},
          "execution_count": 36
        },
        {
          "output_type": "display_data",
          "data": {
            "text/plain": [
              "<Figure size 432x288 with 1 Axes>"
            ],
            "image/png": "[encoded data removed]"
          },
          "metadata": {
            "needs_background": "light"
          }
        }
      ]
    },
    {
      "cell_type": "markdown",
      "metadata": {
        "id": "1Q4NUSQIOrLf"
      },
      "source": [
        "Our model isn't great, but now let's compare our model with the Logistic Regression implementation in the MLlib library from PySpark: "
      ]
    },
    {
      "cell_type": "code",
      "execution_count": 37,
      "metadata": {
        "id": "AARevq0ROqTE"
      },
      "outputs": [],
      "source": [
        "from pyspark.ml.classification import LogisticRegression\n",
        "\n",
        "model2 = LogisticRegression(featuresCol = 'features', labelCol = 'CANCELLED', maxIter = 1000)\n",
        "model2 = model2.fit(train)"
      ]
    },
    {
      "cell_type": "code",
      "execution_count": 38,
      "metadata": {
        "id": "QA8nIIH9ScOW"
      },
      "outputs": [],
      "source": [
        "predictions_model2 = model2.transform(test)"
      ]
    },
    {
      "cell_type": "code",
      "execution_count": 39,
      "metadata": {
        "id": "2cUjTNc2TOxN"
      },
      "outputs": [],
      "source": [
        "y_true2 = predictions_model2.select(\"CANCELLED\")\n",
        "y_true2 = y_true2.toPandas()\n",
        "\n",
        "y_pred2 = predictions_model2.select(\"prediction\")\n",
        "y_pred2 = y_pred2.toPandas()"
      ]
    },
    {
      "cell_type": "code",
      "execution_count": 40,
      "metadata": {
        "colab": {
          "base_uri": "https://localhost:8080/"
        },
        "id": "ldpWBTjUT88p",
        "outputId": "29529891-27f4-49ca-dac1-5e81e5bd45c6"
      },
      "outputs": [
        {
          "output_type": "stream",
          "name": "stdout",
          "text": [
            "              precision    recall  f1-score   support\n",
            "\n",
            "           0       0.58      0.55      0.56     19318\n",
            "           1       0.58      0.61      0.59     19567\n",
            "\n",
            "    accuracy                           0.58     38885\n",
            "   macro avg       0.58      0.58      0.58     38885\n",
            "weighted avg       0.58      0.58      0.58     38885\n",
            "\n"
          ]
        }
      ],
      "source": [
        "print(classification_report(y_true2, y_pred2))"
      ]
    },
    {
      "cell_type": "code",
      "execution_count": 41,
      "metadata": {
        "colab": {
          "base_uri": "https://localhost:8080/",
          "height": 297
        },
        "id": "x_ltoHO4HUo_",
        "outputId": "14f9e3d3-55a0-4a2f-8a2f-523671108e4d"
      },
      "outputs": [
        {
          "output_type": "execute_result",
          "data": {
            "text/plain": [
              "<sklearn.metrics._plot.roc_curve.RocCurveDisplay at 0x7fc3280ad510>"
            ]
          },
          "metadata": {},
          "execution_count": 41
        },
        {
          "output_type": "display_data",
          "data": {
            "text/plain": [
              "<Figure size 432x288 with 1 Axes>"
            ],
            "image/png": "[encoded data removed]"
          },
          "metadata": {
            "needs_background": "light"
          }
        }
      ],
      "source": [
        "from sklearn.metrics import RocCurveDisplay\n",
        "\n",
        "RocCurveDisplay.from_predictions(y_true2, np.array(predictions_model2.select('prediction').collect()))"
      ]
    },
    {
      "cell_type": "markdown",
      "metadata": {
        "id": "9xvoDkIacSi9"
      },
      "source": [
        "Comparing both models, the metrics are almost identical. We can say that our implementation is fine."
      ]
    }
  ],
  "metadata": {
    "colab": {
      "collapsed_sections": [],
      "provenance": []
    },
    "kernelspec": {
      "display_name": "Python 3",
      "name": "python3"
    },
    "language_info": {
      "name": "python"
    }
  },
  "nbformat": 4,
  "nbformat_minor": 0
}