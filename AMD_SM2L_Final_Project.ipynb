{
  "cells": [
    {
      "cell_type": "markdown",
      "metadata": {
        "id": "view-in-github",
        "colab_type": "text"
      },
      "source": [
        "<a href=\"https://colab.research.google.com/github/jesusvivo/amd-sm2l/blob/main/AMD_SM2L_Final_Project.ipynb\" target=\"_parent\"><img src=\"https://colab.research.google.com/assets/colab-badge.svg\" alt=\"Open In Colab\"/></a>"
      ]
    },
    {
      "cell_type": "markdown",
      "metadata": {
        "id": "y-OzO5TYPk8A"
      },
      "source": [
        "# Analysis of flight cancellations in the US\n",
        "\n",
        "First we will retrieve the dataset from Kaggle following the steps at [Easiest way to download kaggle data in Google Colab](https://www.kaggle.com/general/74235)"
      ]
    },
    {
      "cell_type": "code",
      "execution_count": 35,
      "metadata": {
        "id": "kwuFvh64O5o-"
      },
      "outputs": [],
      "source": [
        "! pip install -q kaggle"
      ]
    },
    {
      "cell_type": "code",
      "execution_count": 36,
      "metadata": {
        "colab": {
          "base_uri": "https://localhost:8080/"
        },
        "id": "5IYTLqHYSvyv",
        "outputId": "cafd757f-b5af-4895-abc1-6f19e5ce6355"
      },
      "outputs": [
        {
          "output_type": "stream",
          "name": "stdout",
          "text": [
            "Looking in indexes: https://pypi.org/simple, https://us-python.pkg.dev/colab-wheels/public/simple/\n",
            "Requirement already satisfied: pyspark in /usr/local/lib/python3.7/dist-packages (3.3.0)\n",
            "Requirement already satisfied: py4j==0.10.9.5 in /usr/local/lib/python3.7/dist-packages (from pyspark) (0.10.9.5)\n"
          ]
        }
      ],
      "source": [
        "! pip install pyspark"
      ]
    },
    {
      "cell_type": "code",
      "execution_count": 37,
      "metadata": {
        "colab": {
          "base_uri": "https://localhost:8080/"
        },
        "id": "iXVZbfgCt_Oe",
        "outputId": "5660cc5c-b252-4308-e434-96af361f7831"
      },
      "outputs": [
        {
          "output_type": "stream",
          "name": "stdout",
          "text": [
            "Looking in indexes: https://pypi.org/simple, https://us-python.pkg.dev/colab-wheels/public/simple/\n",
            "Requirement already satisfied: findspark in /usr/local/lib/python3.7/dist-packages (2.0.1)\n"
          ]
        }
      ],
      "source": [
        "!pip install findspark"
      ]
    },
    {
      "cell_type": "markdown",
      "metadata": {
        "id": "hvtazC70QMiv"
      },
      "source": [
        "Now we must upload the Kaggle API token from our machine"
      ]
    },
    {
      "cell_type": "code",
      "execution_count": 38,
      "metadata": {
        "colab": {
          "base_uri": "https://localhost:8080/",
          "height": 92,
          "resources": {
            "http://localhost:8080/nbextensions/google.colab/files.js": {
              "data": "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",
              "headers": [
                [
                  "content-type",
                  "application/javascript"
                ]
              ],
              "ok": true,
              "status": 200,
              "status_text": ""
            }
          }
        },
        "id": "XtcxE1x2O_ra",
        "outputId": "6ee40a23-41bd-4d81-f4ac-0c3a7a86f10b"
      },
      "outputs": [
        {
          "output_type": "display_data",
          "data": {
            "text/plain": [
              "<IPython.core.display.HTML object>"
            ],
            "text/html": [
              "\n",
              "     <input type=\"file\" id=\"files-ffb69bf8-484d-4654-8a8c-b551f6bf9c45\" name=\"files[]\" multiple disabled\n",
              "        style=\"border:none\" />\n",
              "     <output id=\"result-ffb69bf8-484d-4654-8a8c-b551f6bf9c45\">\n",
              "      Upload widget is only available when the cell has been executed in the\n",
              "      current browser session. Please rerun this cell to enable.\n",
              "      </output>\n",
              "      <script src=\"/nbextensions/google.colab/files.js\"></script> "
            ]
          },
          "metadata": {}
        },
        {
          "output_type": "stream",
          "name": "stdout",
          "text": [
            "Saving kaggle.json to kaggle (1).json\n"
          ]
        },
        {
          "output_type": "execute_result",
          "data": {
            "text/plain": [
              "{'kaggle.json': b'{\"username\":\"jesusvivo\",\"key\":\"56a2f1ecbaabbec6b20715527201ac9d\"}'}"
            ]
          },
          "metadata": {},
          "execution_count": 38
        }
      ],
      "source": [
        "from google.colab import files\n",
        "\n",
        "files.upload()"
      ]
    },
    {
      "cell_type": "code",
      "execution_count": 39,
      "metadata": {
        "id": "HDgYRsF7PO5y",
        "colab": {
          "base_uri": "https://localhost:8080/"
        },
        "outputId": "18e542db-31f2-4b50-abe4-dae73cebfa66"
      },
      "outputs": [
        {
          "output_type": "stream",
          "name": "stdout",
          "text": [
            "mkdir: cannot create directory ‘/root/.kaggle’: File exists\n"
          ]
        }
      ],
      "source": [
        "! mkdir ~/.kaggle\n",
        "\n",
        "! cp kaggle.json ~/.kaggle/"
      ]
    },
    {
      "cell_type": "code",
      "execution_count": 40,
      "metadata": {
        "id": "hqTEWApgPhvC"
      },
      "outputs": [],
      "source": [
        "! chmod 600 ~/.kaggle/kaggle.json"
      ]
    },
    {
      "cell_type": "code",
      "execution_count": 41,
      "metadata": {
        "colab": {
          "base_uri": "https://localhost:8080/"
        },
        "id": "lE4KzJL7PkWA",
        "outputId": "428bf140-baaa-4ab4-b41c-be9a797f0bb3"
      },
      "outputs": [
        {
          "output_type": "stream",
          "name": "stdout",
          "text": [
            "ref                                                            title                                                size  lastUpdated          downloadCount  voteCount  usabilityRating  \n",
            "-------------------------------------------------------------  --------------------------------------------------  -----  -------------------  -------------  ---------  ---------------  \n",
            "iamsouravbanerjee/world-population-dataset                     World Population Dataset                             17KB  2022-08-31 11:20:04           5725        185  1.0              \n",
            "kaggleashwin/population-dataset                                World Population by Countries Dataset (1960-2021)    69KB  2022-08-31 05:30:26           1615         70  1.0              \n",
            "iamsouravbanerjee/house-rent-prediction-dataset                House Rent Prediction Dataset                        82KB  2022-08-20 13:49:03          11832        302  1.0              \n",
            "pantanjali/unemployment-dataset                                Unemployment dataset                                 17KB  2022-09-08 08:26:10           1112         43  1.0              \n",
            "ariyoomotade/netflix-data-cleaning-analysis-and-visualization  Netflix Data: Cleaning, Analysis and Visualization  270KB  2022-08-26 09:25:43           3524         89  1.0              \n",
            "rohitmahulkar/online-retails-sale-dataset                      Online Retails Sale Dataset                           8MB  2022-08-25 18:04:52           1004         26  0.9411765        \n",
            "deepcontractor/smoke-detection-dataset                         Smoke Detection Dataset                               2MB  2022-08-21 06:29:34           2205         78  1.0              \n",
            "estienneggx/spotify-unpopular-songs                            Spotify unpopular songs                             737KB  2022-09-04 22:10:41            923         38  1.0              \n",
            "evangower/chocolate-bar-ratings                                Chocolate Bar Ratings                                64KB  2022-09-06 15:37:56            531         33  1.0              \n",
            "sveta151/tiktok-popular-songs-2020                             TikTok popular songs 2020                            17KB  2022-08-22 10:49:13            649         28  1.0              \n",
            "arianazmoudeh/airbnbopendata                                   Airbnb Open Data                                     10MB  2022-08-01 15:58:10           4518        125  0.9705882        \n",
            "totoro29/imdb-movies                                           IMDB Movies                                         668KB  2022-08-22 13:43:25            618         30  0.9411765        \n",
            "samuelcortinhas/gdp-of-european-countries                      GDP of European countries                            795B  2022-09-01 13:15:51            370         31  1.0              \n",
            "advaypatil/youtube-statistics                                  Youtube Statistics                                    2MB  2022-08-26 02:03:19           1275         49  1.0              \n",
            "sveta151/spotify-top-chart-songs-2022                          Spotify top chart songs 2022                         45KB  2022-09-05 07:59:27            676         36  1.0              \n",
            "sveta151/tiktok-popular-songs-2021                             TikTok popular songs 2021                            11KB  2022-08-22 11:02:34            979         36  1.0              \n",
            "yasirabdaali/corona-virus-covid19-us-counties                  Corona Virus Covid-19  US Counties                   75MB  2022-08-22 02:38:55            614         25  0.9411765        \n",
            "surajjha101/fortune-top-1000-companies-by-revenue-2022         Fortune Top 1000 Companies by Revenue 2022           37KB  2022-08-28 06:43:27            891         49  1.0              \n",
            "dansbecker/melbourne-housing-snapshot                          Melbourne Housing Snapshot                          451KB  2018-06-05 12:52:24          95382       1136  0.7058824        \n",
            "zwl1234/top-50-bestselling-novels-20092021-of-amazon           Top 50 Bestselling Novels 2009-2021 of Amazon        36KB  2022-08-29 15:50:47           1071         30  1.0              \n"
          ]
        }
      ],
      "source": [
        "! kaggle datasets list"
      ]
    },
    {
      "cell_type": "code",
      "execution_count": 42,
      "metadata": {
        "colab": {
          "base_uri": "https://localhost:8080/"
        },
        "id": "Tb3SWxsnQfDG",
        "outputId": "34298e10-70d6-452e-92a3-1ba6f03daa91"
      },
      "outputs": [
        {
          "output_type": "stream",
          "name": "stdout",
          "text": [
            "airline-delay-and-cancellation-data-2009-2018.zip: Skipping, found more recently modified local copy (use --force to force download)\n"
          ]
        }
      ],
      "source": [
        "!kaggle datasets download -d yuanyuwendymu/airline-delay-and-cancellation-data-2009-2018"
      ]
    },
    {
      "cell_type": "code",
      "execution_count": 43,
      "metadata": {
        "id": "l8XtjtkFQmCt"
      },
      "outputs": [],
      "source": [
        "import zipfile\n",
        "path = 'airline-delay-and-cancellation-data-2009-2018.zip'\n",
        "folder = 'data'\n",
        "with zipfile.ZipFile(path, 'r') as zip_ref:\n",
        "    zip_ref.extractall(folder)"
      ]
    },
    {
      "cell_type": "code",
      "execution_count": 44,
      "metadata": {
        "colab": {
          "base_uri": "https://localhost:8080/"
        },
        "id": "tvsWFTiwR8KS",
        "outputId": "7865d119-1753-4a94-9ee1-cd8b53761f81"
      },
      "outputs": [
        {
          "output_type": "stream",
          "name": "stdout",
          "text": [
            "root\n",
            " |-- FL_DATE: string (nullable = true)\n",
            " |-- OP_CARRIER: string (nullable = true)\n",
            " |-- OP_CARRIER_FL_NUM: string (nullable = true)\n",
            " |-- ORIGIN: string (nullable = true)\n",
            " |-- DEST: string (nullable = true)\n",
            " |-- CRS_DEP_TIME: string (nullable = true)\n",
            " |-- DEP_TIME: string (nullable = true)\n",
            " |-- DEP_DELAY: string (nullable = true)\n",
            " |-- TAXI_OUT: string (nullable = true)\n",
            " |-- WHEELS_OFF: string (nullable = true)\n",
            " |-- WHEELS_ON: string (nullable = true)\n",
            " |-- TAXI_IN: string (nullable = true)\n",
            " |-- CRS_ARR_TIME: string (nullable = true)\n",
            " |-- ARR_TIME: string (nullable = true)\n",
            " |-- ARR_DELAY: string (nullable = true)\n",
            " |-- CANCELLED: string (nullable = true)\n",
            " |-- CANCELLATION_CODE: string (nullable = true)\n",
            " |-- DIVERTED: string (nullable = true)\n",
            " |-- CRS_ELAPSED_TIME: string (nullable = true)\n",
            " |-- ACTUAL_ELAPSED_TIME: string (nullable = true)\n",
            " |-- AIR_TIME: string (nullable = true)\n",
            " |-- DISTANCE: string (nullable = true)\n",
            " |-- CARRIER_DELAY: string (nullable = true)\n",
            " |-- WEATHER_DELAY: string (nullable = true)\n",
            " |-- NAS_DELAY: string (nullable = true)\n",
            " |-- SECURITY_DELAY: string (nullable = true)\n",
            " |-- LATE_AIRCRAFT_DELAY: string (nullable = true)\n",
            " |-- Unnamed: 27: string (nullable = true)\n",
            "\n"
          ]
        }
      ],
      "source": [
        "import findspark\n",
        "findspark.init()\n",
        "\n",
        "import pyspark\n",
        "from pyspark.sql import SparkSession\n",
        "\n",
        "spark = SparkSession.builder.master('local[1]') \\\n",
        "                    .appName('FinalProject') \\\n",
        "                    .getOrCreate()\n",
        "\n",
        "df = spark.read.option('header', True) \\\n",
        "     .csv(['data/2018.csv', 'data/2017.csv', 'data/2016.csv', 'data/2015.csv', 'data/2014.csv', \\\n",
        "           'data/2013.csv', 'data/2012.csv', 'data/2011.csv', 'data/2010.csv', 'data/2009.csv'])\n",
        "df.printSchema()\n"
      ]
    },
    {
      "cell_type": "code",
      "execution_count": 45,
      "metadata": {
        "colab": {
          "base_uri": "https://localhost:8080/"
        },
        "id": "qUgY7PlZWo6d",
        "outputId": "09bd2cca-a3b5-4ab4-9057-8c3765d769dd"
      },
      "outputs": [
        {
          "output_type": "stream",
          "name": "stdout",
          "text": [
            "+----------+----------+-----------------+------+----+------------+--------+---------+--------+----------+---------+-------+------------+--------+---------+---------+-----------------+--------+----------------+-------------------+--------+--------+-------------+-------------+---------+--------------+-------------------+-----------+\n",
            "|   FL_DATE|OP_CARRIER|OP_CARRIER_FL_NUM|ORIGIN|DEST|CRS_DEP_TIME|DEP_TIME|DEP_DELAY|TAXI_OUT|WHEELS_OFF|WHEELS_ON|TAXI_IN|CRS_ARR_TIME|ARR_TIME|ARR_DELAY|CANCELLED|CANCELLATION_CODE|DIVERTED|CRS_ELAPSED_TIME|ACTUAL_ELAPSED_TIME|AIR_TIME|DISTANCE|CARRIER_DELAY|WEATHER_DELAY|NAS_DELAY|SECURITY_DELAY|LATE_AIRCRAFT_DELAY|Unnamed: 27|\n",
            "+----------+----------+-----------------+------+----+------------+--------+---------+--------+----------+---------+-------+------------+--------+---------+---------+-----------------+--------+----------------+-------------------+--------+--------+-------------+-------------+---------+--------------+-------------------+-----------+\n",
            "|2018-01-01|        UA|             2429|   EWR| DEN|        1517|  1512.0|     -5.0|    15.0|    1527.0|   1712.0|   10.0|        1745|  1722.0|    -23.0|      0.0|             null|     0.0|           268.0|              250.0|   225.0|  1605.0|         null|         null|     null|          null|               null|       null|\n",
            "|2018-01-01|        UA|             2427|   LAS| SFO|        1115|  1107.0|     -8.0|    11.0|    1118.0|   1223.0|    7.0|        1254|  1230.0|    -24.0|      0.0|             null|     0.0|            99.0|               83.0|    65.0|   414.0|         null|         null|     null|          null|               null|       null|\n",
            "|2018-01-01|        UA|             2426|   SNA| DEN|        1335|  1330.0|     -5.0|    15.0|    1345.0|   1631.0|    5.0|        1649|  1636.0|    -13.0|      0.0|             null|     0.0|           134.0|              126.0|   106.0|   846.0|         null|         null|     null|          null|               null|       null|\n",
            "|2018-01-01|        UA|             2425|   RSW| ORD|        1546|  1552.0|      6.0|    19.0|    1611.0|   1748.0|    6.0|        1756|  1754.0|     -2.0|      0.0|             null|     0.0|           190.0|              182.0|   157.0|  1120.0|         null|         null|     null|          null|               null|       null|\n",
            "|2018-01-01|        UA|             2424|   ORD| ALB|         630|   650.0|     20.0|    13.0|     703.0|    926.0|   10.0|         922|   936.0|     14.0|      0.0|             null|     0.0|           112.0|              106.0|    83.0|   723.0|         null|         null|     null|          null|               null|       null|\n",
            "+----------+----------+-----------------+------+----+------------+--------+---------+--------+----------+---------+-------+------------+--------+---------+---------+-----------------+--------+----------------+-------------------+--------+--------+-------------+-------------+---------+--------------+-------------------+-----------+\n",
            "only showing top 5 rows\n",
            "\n"
          ]
        }
      ],
      "source": [
        "df.show(5)"
      ]
    },
    {
      "cell_type": "markdown",
      "metadata": {
        "id": "UKXXaQRT1Ho9"
      },
      "source": [
        "Since we are only considering information prior to flight departure, we are going to keep only the columns that provide us that information"
      ]
    },
    {
      "cell_type": "code",
      "execution_count": 46,
      "metadata": {
        "colab": {
          "base_uri": "https://localhost:8080/"
        },
        "id": "s_MuMHyq10pV",
        "outputId": "b2f199f4-209b-40fc-d43c-5d0490cc297b"
      },
      "outputs": [
        {
          "output_type": "stream",
          "name": "stdout",
          "text": [
            "+----------+----------+------+----+------------+------------+---------+----------------+--------+\n",
            "|   FL_DATE|OP_CARRIER|ORIGIN|DEST|CRS_DEP_TIME|CRS_ARR_TIME|CANCELLED|CRS_ELAPSED_TIME|DISTANCE|\n",
            "+----------+----------+------+----+------------+------------+---------+----------------+--------+\n",
            "|2018-01-01|        UA|   EWR| DEN|        1517|        1745|      0.0|           268.0|  1605.0|\n",
            "|2018-01-01|        UA|   LAS| SFO|        1115|        1254|      0.0|            99.0|   414.0|\n",
            "|2018-01-01|        UA|   SNA| DEN|        1335|        1649|      0.0|           134.0|   846.0|\n",
            "|2018-01-01|        UA|   RSW| ORD|        1546|        1756|      0.0|           190.0|  1120.0|\n",
            "|2018-01-01|        UA|   ORD| ALB|         630|         922|      0.0|           112.0|   723.0|\n",
            "|2018-01-01|        UA|   ORD| OMA|        2241|          14|      0.0|            93.0|   416.0|\n",
            "|2018-01-01|        UA|   IAH| LAS|         750|         916|      0.0|           206.0|  1222.0|\n",
            "|2018-01-01|        UA|   DEN| CID|        1324|        1619|      0.0|           115.0|   692.0|\n",
            "|2018-01-01|        UA|   SMF| EWR|        2224|         638|      0.0|           314.0|  2500.0|\n",
            "|2018-01-01|        UA|   RIC| DEN|        1601|        1813|      0.0|           252.0|  1482.0|\n",
            "+----------+----------+------+----+------------+------------+---------+----------------+--------+\n",
            "only showing top 10 rows\n",
            "\n"
          ]
        }
      ],
      "source": [
        "columns_to_keep = ['FL_DATE', 'OP_CARRIER', 'ORIGIN', 'DEST', 'CRS_DEP_TIME', 'CRS_ARR_TIME', 'CANCELLED', 'CRS_ELAPSED_TIME', 'DISTANCE']\n",
        "\n",
        "df = df.select(columns_to_keep)\n",
        "\n",
        "df.show(10)"
      ]
    },
    {
      "cell_type": "markdown",
      "metadata": {
        "id": "xdprMAwQztPL"
      },
      "source": [
        "Let's see the distribution of the classes in our dataset"
      ]
    },
    {
      "cell_type": "code",
      "execution_count": 47,
      "metadata": {
        "colab": {
          "base_uri": "https://localhost:8080/"
        },
        "id": "nn-du5PT5wzR",
        "outputId": "063afc8a-79af-4b4a-ae6b-237ff0922bd5"
      },
      "outputs": [
        {
          "output_type": "stream",
          "name": "stdout",
          "text": [
            "+---------+--------+\n",
            "|CANCELLED|   count|\n",
            "+---------+--------+\n",
            "|      1.0|  973209|\n",
            "|      0.0|60583755|\n",
            "+---------+--------+\n",
            "\n"
          ]
        }
      ],
      "source": [
        "df.groupBy('CANCELLED').count().show()"
      ]
    },
    {
      "cell_type": "markdown",
      "metadata": {
        "id": "pddEL3iXyMZN"
      },
      "source": [
        "Since we have much more items from the non cancelled class, and we have over 7 million elements, we are going to undersample the majority class in order to balance our dataset. In addition, we are going to keep the 10% of all samples to simplify the process of preparing features, model training and evaluation"
      ]
    },
    {
      "cell_type": "code",
      "execution_count": 48,
      "metadata": {
        "id": "iQf6_uSPwIFd"
      },
      "outputs": [],
      "source": [
        "from pyspark.sql.functions import col\n",
        "\n",
        "def resample(dataframe, column, positive_value):\n",
        "    positives = dataframe.filter(col(column) == positive_value)\n",
        "    negatives = dataframe.filter(col(column) != positive_value)\n",
        "    total_positives = positives.count()\n",
        "    total_negatives = negatives.count()\n",
        "    ratio = float(total_positives) / float(total_negatives)\n",
        "    sampled = negatives.sample(False, ratio)\n",
        "    return sampled.union(positives).sample(0.1)\n",
        "\n",
        "df = resample(df, 'CANCELLED', '1.0')\n"
      ]
    },
    {
      "cell_type": "code",
      "execution_count": 49,
      "metadata": {
        "colab": {
          "base_uri": "https://localhost:8080/"
        },
        "id": "CpYDqB5x1rVn",
        "outputId": "abff3d6b-9c17-44a4-f80d-d4638acbb941"
      },
      "outputs": [
        {
          "output_type": "stream",
          "name": "stdout",
          "text": [
            "+---------+-----+\n",
            "|CANCELLED|count|\n",
            "+---------+-----+\n",
            "|      0.0|97518|\n",
            "|      1.0|97089|\n",
            "+---------+-----+\n",
            "\n"
          ]
        }
      ],
      "source": [
        "df.groupBy('CANCELLED').count().show()"
      ]
    },
    {
      "cell_type": "markdown",
      "metadata": {
        "id": "OX_BqeueTtQd"
      },
      "source": [
        "Now our dataset is balanced. Now we are going to divide the flight date column into two new columns: weekday and month, in order to prepare this variable for the model"
      ]
    },
    {
      "cell_type": "code",
      "execution_count": 50,
      "metadata": {
        "colab": {
          "base_uri": "https://localhost:8080/"
        },
        "id": "eNNEwpQG9Fpq",
        "outputId": "a321ac0d-152f-44c0-f74b-039908ea93b6"
      },
      "outputs": [
        {
          "output_type": "stream",
          "name": "stdout",
          "text": [
            "+----------+------+----+------------+------------+---------+----------------+--------+---------------+-------------+\n",
            "|OP_CARRIER|ORIGIN|DEST|CRS_DEP_TIME|CRS_ARR_TIME|CANCELLED|CRS_ELAPSED_TIME|DISTANCE|FL_DATE_WEEKDAY|FL_DATE_MONTH|\n",
            "+----------+------+----+------------+------------+---------+----------------+--------+---------------+-------------+\n",
            "|        UA|   ORD| DEN|        1509|        1651|      0.0|           162.0|   888.0|              2|            1|\n",
            "|        UA|   LAX| EWR|        1430|        2244|      0.0|           314.0|  2454.0|              2|            1|\n",
            "|        UA|   DEN| EWR|        1520|        2056|      0.0|           216.0|  1605.0|              2|            1|\n",
            "|        UA|   SFO| DFW|        1805|        2339|      0.0|           214.0|  1464.0|              2|            1|\n",
            "|        AS|   ANC| BET|        1849|        2009|      0.0|            80.0|   399.0|              2|            1|\n",
            "|        AS|   SFO| SLC|        1930|        2213|      0.0|           103.0|   599.0|              2|            1|\n",
            "|        AS|   SJC| OGG|         805|        1150|      0.0|           345.0|  2355.0|              2|            1|\n",
            "|        AS|   PDX| OAK|         638|         837|      0.0|           119.0|   543.0|              2|            1|\n",
            "|        B6|   MCO| BDL|        2109|        2344|      0.0|           155.0|  1050.0|              2|            1|\n",
            "|        B6|   TPA| BOS|        1306|        1559|      0.0|           173.0|  1185.0|              2|            1|\n",
            "+----------+------+----+------------+------------+---------+----------------+--------+---------------+-------------+\n",
            "only showing top 10 rows\n",
            "\n"
          ]
        }
      ],
      "source": [
        "from pyspark.sql.functions import dayofweek, month\n",
        "\n",
        "df = df.withColumn('FL_DATE_WEEKDAY', dayofweek('FL_DATE')).withColumn('FL_DATE_MONTH', month('FL_DATE'))\n",
        "df = df.drop(df.FL_DATE)\n",
        "df.show(10)"
      ]
    },
    {
      "cell_type": "markdown",
      "metadata": {
        "id": "gGMXdI5H4Prn"
      },
      "source": [
        "Our next step will be turning the column OP_CARRIER, which is the airline of the flight, into a numerical column, called AIRLINE_ID"
      ]
    },
    {
      "cell_type": "code",
      "execution_count": 51,
      "metadata": {
        "colab": {
          "base_uri": "https://localhost:8080/"
        },
        "id": "XcAYJlfAHeOL",
        "outputId": "6203973d-0076-4993-cdd7-7765d82fecd8"
      },
      "outputs": [
        {
          "output_type": "stream",
          "name": "stdout",
          "text": [
            "+------+----+------------+------------+---------+----------------+--------+---------------+-------------+----------+\n",
            "|ORIGIN|DEST|CRS_DEP_TIME|CRS_ARR_TIME|CANCELLED|CRS_ELAPSED_TIME|DISTANCE|FL_DATE_WEEKDAY|FL_DATE_MONTH|AIRLINE_ID|\n",
            "+------+----+------------+------------+---------+----------------+--------+---------------+-------------+----------+\n",
            "|   ORD| DEN|        1509|        1651|      0.0|           162.0|   888.0|              2|            1|       6.0|\n",
            "|   LAX| EWR|        1430|        2244|      0.0|           314.0|  2454.0|              2|            1|       6.0|\n",
            "|   DEN| EWR|        1520|        2056|      0.0|           216.0|  1605.0|              2|            1|       6.0|\n",
            "|   SFO| DFW|        1805|        2339|      0.0|           214.0|  1464.0|              2|            1|       6.0|\n",
            "|   ANC| BET|        1849|        2009|      0.0|            80.0|   399.0|              2|            1|      12.0|\n",
            "|   SFO| SLC|        1930|        2213|      0.0|           103.0|   599.0|              2|            1|      12.0|\n",
            "|   SJC| OGG|         805|        1150|      0.0|           345.0|  2355.0|              2|            1|      12.0|\n",
            "|   PDX| OAK|         638|         837|      0.0|           119.0|   543.0|              2|            1|      12.0|\n",
            "|   MCO| BDL|        2109|        2344|      0.0|           155.0|  1050.0|              2|            1|       7.0|\n",
            "|   TPA| BOS|        1306|        1559|      0.0|           173.0|  1185.0|              2|            1|       7.0|\n",
            "+------+----+------------+------------+---------+----------------+--------+---------------+-------------+----------+\n",
            "only showing top 10 rows\n",
            "\n"
          ]
        }
      ],
      "source": [
        "from pyspark.ml.feature import StringIndexer\n",
        "\n",
        "indexer = StringIndexer(inputCol = 'OP_CARRIER', outputCol = 'AIRLINE_ID') \n",
        "df = indexer.fit(df).transform(df) \n",
        "df = df.drop(df.OP_CARRIER)\n",
        "\n",
        "df.show(10)"
      ]
    },
    {
      "cell_type": "markdown",
      "metadata": {
        "id": "CtTtnVAc4b-B"
      },
      "source": [
        "Let's do the same now for the ORIGIN and DEST columns"
      ]
    },
    {
      "cell_type": "code",
      "execution_count": 52,
      "metadata": {
        "colab": {
          "base_uri": "https://localhost:8080/"
        },
        "id": "DzbwAZk9Qnms",
        "outputId": "91831545-ffdc-480e-d619-ecd06f1e098a"
      },
      "outputs": [
        {
          "output_type": "stream",
          "name": "stdout",
          "text": [
            "+------------+------------+---------+----------------+--------+---------------+-------------+----------+---------+-------+\n",
            "|CRS_DEP_TIME|CRS_ARR_TIME|CANCELLED|CRS_ELAPSED_TIME|DISTANCE|FL_DATE_WEEKDAY|FL_DATE_MONTH|AIRLINE_ID|ORIGIN_ID|DEST_ID|\n",
            "+------------+------------+---------+----------------+--------+---------------+-------------+----------+---------+-------+\n",
            "|        1509|        1651|      0.0|           162.0|   888.0|              2|            1|       6.0|    108.0|  274.0|\n",
            "|        1430|        2244|      0.0|           314.0|  2454.0|              2|            1|       6.0|    169.0|  253.0|\n",
            "|        1520|        2056|      0.0|           216.0|  1605.0|              2|            1|       6.0|    270.0|  253.0|\n",
            "|        1805|        2339|      0.0|           214.0|  1464.0|              2|            1|       6.0|     50.0|  273.0|\n",
            "|        1849|        2009|      0.0|            80.0|   399.0|              2|            1|      12.0|    346.0|  338.0|\n",
            "|        1930|        2213|      0.0|           103.0|   599.0|              2|            1|      12.0|     50.0|   43.0|\n",
            "|         805|        1150|      0.0|           345.0|  2355.0|              2|            1|      12.0|     44.0|  118.0|\n",
            "|         638|         837|      0.0|           119.0|   543.0|              2|            1|      12.0|     98.0|  120.0|\n",
            "|        2109|        2344|      0.0|           155.0|  1050.0|              2|            1|       7.0|    146.0|  339.0|\n",
            "|        1306|        1559|      0.0|           173.0|  1185.0|              2|            1|       7.0|     19.0|  324.0|\n",
            "+------------+------------+---------+----------------+--------+---------------+-------------+----------+---------+-------+\n",
            "only showing top 10 rows\n",
            "\n"
          ]
        }
      ],
      "source": [
        "indexer = StringIndexer(inputCol = 'ORIGIN', outputCol = 'ORIGIN_ID', stringOrderType = 'alphabetDesc') \n",
        "df = indexer.fit(df).transform(df) \n",
        "df = df.drop(df.ORIGIN)\n",
        "\n",
        "indexer = StringIndexer(inputCol = 'DEST', outputCol = 'DEST_ID', stringOrderType = 'alphabetDesc') \n",
        "df = indexer.fit(df).transform(df) \n",
        "df = df.drop(df.DEST)\n",
        "\n",
        "df.show(10)"
      ]
    },
    {
      "cell_type": "markdown",
      "metadata": {
        "id": "ytPLP1Hm4lWM"
      },
      "source": [
        "Finally, we are going to drop the CRS_ARR_TIME and DISTANCE columns, since they have a strong correlation with the CRS_DEP_TIME and CRS_ELAPSED_TIME columns, respectively. We are going to keep the latter ones because their values are lower and have less variance."
      ]
    },
    {
      "cell_type": "code",
      "execution_count": 53,
      "metadata": {
        "colab": {
          "base_uri": "https://localhost:8080/"
        },
        "id": "OE48MpU3TNuA",
        "outputId": "9c8bd2b4-eacc-470d-a1db-fe98155354d2"
      },
      "outputs": [
        {
          "output_type": "stream",
          "name": "stdout",
          "text": [
            "+------------+---------+----------------+---------------+-------------+----------+---------+-------+\n",
            "|CRS_DEP_TIME|CANCELLED|CRS_ELAPSED_TIME|FL_DATE_WEEKDAY|FL_DATE_MONTH|AIRLINE_ID|ORIGIN_ID|DEST_ID|\n",
            "+------------+---------+----------------+---------------+-------------+----------+---------+-------+\n",
            "|        1509|      0.0|           162.0|              2|            1|       6.0|    108.0|  274.0|\n",
            "|        1430|      0.0|           314.0|              2|            1|       6.0|    169.0|  253.0|\n",
            "|        1520|      0.0|           216.0|              2|            1|       6.0|    270.0|  253.0|\n",
            "|        1805|      0.0|           214.0|              2|            1|       6.0|     50.0|  273.0|\n",
            "|        1849|      0.0|            80.0|              2|            1|      12.0|    346.0|  338.0|\n",
            "|        1930|      0.0|           103.0|              2|            1|      12.0|     50.0|   43.0|\n",
            "|         805|      0.0|           345.0|              2|            1|      12.0|     44.0|  118.0|\n",
            "|         638|      0.0|           119.0|              2|            1|      12.0|     98.0|  120.0|\n",
            "|        2109|      0.0|           155.0|              2|            1|       7.0|    146.0|  339.0|\n",
            "|        1306|      0.0|           173.0|              2|            1|       7.0|     19.0|  324.0|\n",
            "+------------+---------+----------------+---------------+-------------+----------+---------+-------+\n",
            "only showing top 10 rows\n",
            "\n"
          ]
        }
      ],
      "source": [
        "df = df.drop('CRS_ARR_TIME', 'DISTANCE')\n",
        "df.show(10)"
      ]
    },
    {
      "cell_type": "markdown",
      "metadata": {
        "id": "XqRNq6XD5AVd"
      },
      "source": [
        "As last steps of cleaning and preparing the datasets, we will select the final list of features for our model in order to normalize them and remove any that has some missing value"
      ]
    },
    {
      "cell_type": "code",
      "execution_count": 54,
      "metadata": {
        "id": "CocU4QrpTGln"
      },
      "outputs": [],
      "source": [
        "cols_to_normalize = ['CRS_DEP_TIME', 'CRS_ELAPSED_TIME', 'FL_DATE_WEEKDAY','FL_DATE_MONTH','AIRLINE_ID', 'ORIGIN_ID','DEST_ID']\n",
        "\n",
        "df = df.dropna(how = 'any')"
      ]
    },
    {
      "cell_type": "code",
      "execution_count": 55,
      "metadata": {
        "colab": {
          "base_uri": "https://localhost:8080/"
        },
        "id": "6SJQ7KswnB56",
        "outputId": "0672902e-0536-48a6-d61e-5cbc90497e3a"
      },
      "outputs": [
        {
          "output_type": "stream",
          "name": "stdout",
          "text": [
            "root\n",
            " |-- CRS_DEP_TIME: string (nullable = true)\n",
            " |-- CANCELLED: string (nullable = true)\n",
            " |-- CRS_ELAPSED_TIME: string (nullable = true)\n",
            " |-- FL_DATE_WEEKDAY: integer (nullable = true)\n",
            " |-- FL_DATE_MONTH: integer (nullable = true)\n",
            " |-- AIRLINE_ID: double (nullable = false)\n",
            " |-- ORIGIN_ID: double (nullable = false)\n",
            " |-- DEST_ID: double (nullable = false)\n",
            "\n"
          ]
        }
      ],
      "source": [
        "df.printSchema()"
      ]
    },
    {
      "cell_type": "markdown",
      "metadata": {
        "id": "D3sk2YTs5WGr"
      },
      "source": [
        "We are going to transform the columns that are strings into integers in order to build the vector of features correctly"
      ]
    },
    {
      "cell_type": "code",
      "execution_count": 56,
      "metadata": {
        "id": "9vZB6g-onWyI"
      },
      "outputs": [],
      "source": [
        "df = df.withColumn('CRS_DEP_TIME', df.CRS_DEP_TIME.cast('int')) \\\n",
        "        .withColumn('CANCELLED', df.CANCELLED.cast('int')) \\\n",
        "        .withColumn('CRS_ELAPSED_TIME', df.CRS_ELAPSED_TIME.cast('int'))"
      ]
    },
    {
      "cell_type": "code",
      "execution_count": 57,
      "metadata": {
        "colab": {
          "base_uri": "https://localhost:8080/"
        },
        "id": "vlBoEmizoT1s",
        "outputId": "c4296c5e-490f-4253-a451-2325d43ceaa8"
      },
      "outputs": [
        {
          "output_type": "stream",
          "name": "stdout",
          "text": [
            "root\n",
            " |-- CRS_DEP_TIME: integer (nullable = true)\n",
            " |-- CANCELLED: integer (nullable = true)\n",
            " |-- CRS_ELAPSED_TIME: integer (nullable = true)\n",
            " |-- FL_DATE_WEEKDAY: integer (nullable = true)\n",
            " |-- FL_DATE_MONTH: integer (nullable = true)\n",
            " |-- AIRLINE_ID: double (nullable = false)\n",
            " |-- ORIGIN_ID: double (nullable = false)\n",
            " |-- DEST_ID: double (nullable = false)\n",
            "\n"
          ]
        }
      ],
      "source": [
        "df.printSchema()"
      ]
    },
    {
      "cell_type": "markdown",
      "metadata": {
        "id": "bAkAImYU5mEd"
      },
      "source": [
        "Adding a new column with the vectorized features"
      ]
    },
    {
      "cell_type": "code",
      "execution_count": 58,
      "metadata": {
        "colab": {
          "base_uri": "https://localhost:8080/"
        },
        "id": "lb91A5Ghh9pD",
        "outputId": "f3e1a35b-6164-4422-a00f-f00741a3587d"
      },
      "outputs": [
        {
          "output_type": "stream",
          "name": "stdout",
          "text": [
            "+------------+---------+----------------+---------------+-------------+----------+---------+-------+--------------------+\n",
            "|CRS_DEP_TIME|CANCELLED|CRS_ELAPSED_TIME|FL_DATE_WEEKDAY|FL_DATE_MONTH|AIRLINE_ID|ORIGIN_ID|DEST_ID| vectorized_features|\n",
            "+------------+---------+----------------+---------------+-------------+----------+---------+-------+--------------------+\n",
            "|        1509|        0|             162|              2|            1|       6.0|    108.0|  274.0|[1509.0,162.0,2.0...|\n",
            "|        1430|        0|             314|              2|            1|       6.0|    169.0|  253.0|[1430.0,314.0,2.0...|\n",
            "|        1520|        0|             216|              2|            1|       6.0|    270.0|  253.0|[1520.0,216.0,2.0...|\n",
            "|        1805|        0|             214|              2|            1|       6.0|     50.0|  273.0|[1805.0,214.0,2.0...|\n",
            "|        1849|        0|              80|              2|            1|      12.0|    346.0|  338.0|[1849.0,80.0,2.0,...|\n",
            "|        1930|        0|             103|              2|            1|      12.0|     50.0|   43.0|[1930.0,103.0,2.0...|\n",
            "|         805|        0|             345|              2|            1|      12.0|     44.0|  118.0|[805.0,345.0,2.0,...|\n",
            "|         638|        0|             119|              2|            1|      12.0|     98.0|  120.0|[638.0,119.0,2.0,...|\n",
            "|        2109|        0|             155|              2|            1|       7.0|    146.0|  339.0|[2109.0,155.0,2.0...|\n",
            "|        1306|        0|             173|              2|            1|       7.0|     19.0|  324.0|[1306.0,173.0,2.0...|\n",
            "+------------+---------+----------------+---------------+-------------+----------+---------+-------+--------------------+\n",
            "only showing top 10 rows\n",
            "\n"
          ]
        }
      ],
      "source": [
        "from pyspark.ml.feature import VectorAssembler\n",
        "\n",
        "assembler = VectorAssembler().setInputCols(cols_to_normalize).setOutputCol('vectorized_features')\n",
        "df = assembler.transform(df)\n",
        "df.show(10)"
      ]
    },
    {
      "cell_type": "markdown",
      "metadata": {
        "id": "39Bc2aDh5pFC"
      },
      "source": [
        "Normalizing the features vector and getting the final vector that will be the input for our model"
      ]
    },
    {
      "cell_type": "code",
      "execution_count": 59,
      "metadata": {
        "colab": {
          "base_uri": "https://localhost:8080/"
        },
        "id": "2cH6b61KorqQ",
        "outputId": "4e18fb12-8404-448b-df60-4f85a8afd690"
      },
      "outputs": [
        {
          "output_type": "stream",
          "name": "stdout",
          "text": [
            "+------------+---------+----------------+---------------+-------------+----------+---------+-------+--------------------+--------------------+\n",
            "|CRS_DEP_TIME|CANCELLED|CRS_ELAPSED_TIME|FL_DATE_WEEKDAY|FL_DATE_MONTH|AIRLINE_ID|ORIGIN_ID|DEST_ID| vectorized_features|            features|\n",
            "+------------+---------+----------------+---------------+-------------+----------+---------+-------+--------------------+--------------------+\n",
            "|        1509|        0|             162|              2|            1|       6.0|    108.0|  274.0|[1509.0,162.0,2.0...|[3.15010565987191...|\n",
            "|        1430|        0|             314|              2|            1|       6.0|    169.0|  253.0|[1430.0,314.0,2.0...|[2.98518959152871...|\n",
            "|        1520|        0|             216|              2|            1|       6.0|    270.0|  253.0|[1520.0,216.0,2.0...|[3.17306865672982...|\n",
            "|        1805|        0|             214|              2|            1|       6.0|     50.0|  273.0|[1805.0,214.0,2.0...|[3.76801902986666...|\n",
            "|        1849|        0|              80|              2|            1|      12.0|    346.0|  338.0|[1849.0,80.0,2.0,...|[3.85987101729832...|\n",
            "|        1930|        0|             103|              2|            1|      12.0|     50.0|   43.0|[1930.0,103.0,2.0...|[4.02896217597931...|\n",
            "|         805|        0|             345|              2|            1|      12.0|     44.0|  118.0|[805.0,345.0,2.0,...|[1.68047386096546...|\n",
            "|         638|        0|             119|              2|            1|      12.0|     98.0|  120.0|[638.0,119.0,2.0,...|[1.33185381775896...|\n",
            "|        2109|        0|             155|              2|            1|       7.0|    146.0|  339.0|[2109.0,155.0,2.0...|[4.40263276121263...|\n",
            "|        1306|        0|             173|              2|            1|       7.0|     19.0|  324.0|[1306.0,173.0,2.0...|[2.72633399058496...|\n",
            "+------------+---------+----------------+---------------+-------------+----------+---------+-------+--------------------+--------------------+\n",
            "only showing top 10 rows\n",
            "\n"
          ]
        }
      ],
      "source": [
        "from pyspark.ml.feature import StandardScaler\n",
        "\n",
        "scaler = StandardScaler().setInputCol('vectorized_features').setOutputCol('features')\n",
        "df = scaler.fit(df).transform(df)\n",
        "df.show(10)"
      ]
    },
    {
      "cell_type": "markdown",
      "metadata": {
        "id": "-PLQ_9XO5s3A"
      },
      "source": [
        "Our dataset is ready to be trained. Let's split it and build our model with it. We will convert our PySpark Dataframes to NumPy arrays, in order to perform the mathematical operations with them"
      ]
    },
    {
      "cell_type": "code",
      "execution_count": 60,
      "metadata": {
        "id": "rznMKHIzGk5j"
      },
      "outputs": [],
      "source": [
        "train, test = df.randomSplit([0.8, 0.2])"
      ]
    },
    {
      "cell_type": "code",
      "execution_count": 61,
      "metadata": {
        "id": "Qs0wmx6oG8dv"
      },
      "outputs": [],
      "source": [
        "import numpy as np\n",
        "\n",
        "X_train = np.array(train.select('features').collect())\n",
        "X_train = np.reshape(X_train, (len(X_train), len(X_train[0][0])))\n",
        "\n",
        "X_test = np.array(test.select('features').collect())\n",
        "X_test = np.reshape(X_test, (len(X_test), len(X_test[0][0])))\n",
        "\n",
        "y_train = np.array(train.select('CANCELLED').collect())\n",
        "y_train = np.reshape(y_train, (len(y_train),))\n",
        "\n",
        "y_test = np.array(test.select('CANCELLED').collect())\n",
        "y_test = np.reshape(y_test, (len(y_test),))"
      ]
    },
    {
      "cell_type": "code",
      "execution_count": 62,
      "metadata": {
        "id": "ZwZ3wTK_1de4"
      },
      "outputs": [],
      "source": [
        "class LogisticRegression:\n",
        "    def __init__(self, learning_rate = 0.01, n_iterations = 1000, lambda_value = 1):\n",
        "        self.learning_rate = learning_rate\n",
        "        self.n_iterations = n_iterations\n",
        "        self.lambda_value = lambda_value\n",
        "        self.weights = None\n",
        "        self.bias = None\n",
        "        \n",
        "\n",
        "    def sigmoid(self, x):\n",
        "        return 1 / (1 + np.exp(-x))\n",
        "\n",
        "    def fit(self, X, y):        \n",
        "        M, N = X.shape\n",
        "\n",
        "        # First we initialize the weights vector, which has a size equal to \n",
        "        # the number of features, with zeros\n",
        "        # We also set the initial bias parameter to 0\n",
        "\n",
        "        self.weights = np.zeros(N)\n",
        "        self.bias = 0\n",
        "\n",
        "        # We initiate now the learning loop\n",
        "\n",
        "        for i in range(self.n_iterations):\n",
        "            # Calculate the prediction applying the y = w · x + b linear function.\n",
        "            # Then apply the sigmoid function to the linear prediction\n",
        "            # so that it returns a value between 0 and 1.\n",
        "\n",
        "            Z = np.dot(X, self.weights) + self.bias\n",
        "            y_predicted = self.sigmoid(Z)\n",
        "\n",
        "            # Calculate regularization term (L2) to apply it on the cost function\n",
        "            regularization_term = self.lambda_value * np.sum(np.square(self.weights))\n",
        "\n",
        "            # We now compute the cost using the log loss function, \n",
        "            # in order to test different hyperparameter settings\n",
        "            cost = - (1 / M) * np.sum(y * np.log(y_predicted) + (1 - y) *  np.log(1 - y_predicted)) + regularization_term\n",
        "\n",
        "            # Apply gradient descent to optimize weights and bias and update them\n",
        "            dW = (1 / M) * np.dot(X.T, (y_predicted - y))\n",
        "            dB = (1 / M) * np.sum(y_predicted - y)\n",
        "\n",
        "            self.weights = self.weights - self.learning_rate * dW\n",
        "            self.bias = self.bias - self.learning_rate * dB\n",
        "\n",
        "    def predict(self, X):\n",
        "        Z = np.dot(X, self.weights) + self.bias\n",
        "        y_predicted = self.sigmoid(Z)\n",
        "\n",
        "        y_predicted = [1 if i > 0.5 else 0 for i in y_predicted]\n",
        "\n",
        "        return np.array(y_predicted)\n",
        "    \n",
        "    def F1_score(self, y_test, y_predictions):\n",
        "      true_positives, true_negatives, false_positives, false_negatives = 0, 0, 0, 0\n",
        "\n",
        "      for i in range(len(y_test)):\n",
        "          if y_test[i] == 1 and y_predictions[i] == 1:\n",
        "              true_positives += 1\n",
        "          elif y_test[i] == 0 and y_predictions[i] == 1:\n",
        "              false_positives += 1\n",
        "          elif y_test[i] == 0 and y_predictions[i] == 0:\n",
        "              true_negatives += 1\n",
        "          elif y_test[i] == 1 and y_predictions[i] == 0:\n",
        "              false_negatives += 1\n",
        "\n",
        "      precision = true_positives / (true_positives + false_positives)\n",
        "      recall = true_positives / (true_positives + false_negatives)\n",
        "      F1_score = 2 * precision * recall / (precision + recall)\n",
        "      return F1_score"
      ]
    },
    {
      "cell_type": "code",
      "execution_count": 63,
      "metadata": {
        "id": "qZ1xDg-OH6ph"
      },
      "outputs": [],
      "source": [
        "model = LogisticRegression(learning_rate = 0.2, n_iterations = 1000, lambda_value = 1)\n",
        "model.fit(X_train, y_train)\n",
        "predictions = model.predict(X_test)"
      ]
    },
    {
      "cell_type": "markdown",
      "metadata": {
        "id": "yxRDX82cOeFr"
      },
      "source": [
        "Let's see the metrics for our model:"
      ]
    },
    {
      "cell_type": "code",
      "execution_count": 64,
      "metadata": {
        "colab": {
          "base_uri": "https://localhost:8080/"
        },
        "id": "Npvl83CZ2eWn",
        "outputId": "85ca9469-7ab8-4189-a19a-a6bdd58b9229"
      },
      "outputs": [
        {
          "output_type": "stream",
          "name": "stdout",
          "text": [
            "              precision    recall  f1-score   support\n",
            "\n",
            "           0       0.58      0.55      0.57     19533\n",
            "           1       0.57      0.59      0.58     19543\n",
            "\n",
            "    accuracy                           0.57     39076\n",
            "   macro avg       0.57      0.57      0.57     39076\n",
            "weighted avg       0.57      0.57      0.57     39076\n",
            "\n"
          ]
        }
      ],
      "source": [
        "from sklearn.metrics import classification_report\n",
        "\n",
        "print(classification_report(y_test, predictions))"
      ]
    },
    {
      "cell_type": "markdown",
      "source": [
        "If we take a look at the average values, we can see that they are decent. They can be probably improved by tuning this model or testing new strategies on the features. We will do the tuning later.\n",
        "\n",
        "In addition, we can see that the difference in F1 scores is slightly different between classes, although it is really similar. This is a great improvement, since at first, working with the original imbalanced dataset, F1 score for the cancelled class was close to 0.\n",
        "\n",
        "Let's now check the AUC metric for our model:"
      ],
      "metadata": {
        "id": "32T_tJY7hoM5"
      }
    },
    {
      "cell_type": "code",
      "execution_count": 65,
      "metadata": {
        "colab": {
          "base_uri": "https://localhost:8080/",
          "height": 297
        },
        "id": "k1zLun0BPF0g",
        "outputId": "6abf83dc-8876-4053-dafb-77a7099a87ee"
      },
      "outputs": [
        {
          "output_type": "execute_result",
          "data": {
            "text/plain": [
              "<sklearn.metrics._plot.roc_curve.RocCurveDisplay at 0x7fccbe78a610>"
            ]
          },
          "metadata": {},
          "execution_count": 65
        },
        {
          "output_type": "display_data",
          "data": {
            "text/plain": [
              "<Figure size 432x288 with 1 Axes>"
            ],
            "image/png": "[encoded data removed]"
          },
          "metadata": {
            "needs_background": "light"
          }
        }
      ],
      "source": [
        "from sklearn.metrics import RocCurveDisplay\n",
        "\n",
        "RocCurveDisplay.from_predictions(y_test, predictions)"
      ]
    },
    {
      "cell_type": "markdown",
      "source": [
        "Let's tune our model by using grid search, combining different hyperparameter values:"
      ],
      "metadata": {
        "id": "8qvYl9xkCmAv"
      }
    },
    {
      "cell_type": "code",
      "source": [
        "  from sklearn.metrics import f1_score\n",
        "\n",
        "  best_F1_score = 0\n",
        "  best_n_iterations = 0\n",
        "  best_learning_rate = 0\n",
        "  best_lambda_value = 1\n",
        "    \n",
        "  # Different values for the combination of hyperparameters\n",
        "  learning_rates = [0.1, 0.2, 0.4, \n",
        "                    0.01, 0.02, 0.04]\n",
        " \n",
        "  n_iterations = [100, 200, 400, 500, 1000]\n",
        "\n",
        "  lambda_values = [0.001, 0.01, 0.1, 1, 10, 100]\n",
        "    \n",
        "  # Let's build the different combinations\n",
        "    \n",
        "  parameter_combinations = []    \n",
        "  for i in learning_rates:        \n",
        "      for j in n_iterations:          \n",
        "        parameter_combinations.append((i, j))\n",
        " \n",
        "  for k in range(len(parameter_combinations)):        \n",
        "      model = LogisticRegression(\n",
        "          learning_rate = parameter_combinations[k][0], \n",
        "          n_iterations = parameter_combinations[k][1])\n",
        "    \n",
        "      model.fit(X_train, y_train)\n",
        "      \n",
        "      y_pred = model.predict(X_test)\n",
        "\n",
        "      curr_F1_score = f1_score(y_test, y_pred, average = 'macro')\n",
        "\n",
        "      print(\"Combination: \", parameter_combinations[k], \", F1 score: \", curr_F1_score)\n",
        "\n",
        "      if best_F1_score < curr_F1_score:            \n",
        "          best_F1_score = curr_F1_score\n",
        "          best_learning_rate = parameter_combinations[k][0]\n",
        "          best_n_iterations = parameter_combinations[k][1]"
      ],
      "metadata": {
        "colab": {
          "base_uri": "https://localhost:8080/"
        },
        "id": "7tW4QIXzCvUZ",
        "outputId": "52a34f88-cba9-4f56-9146-ba99a0a554c5"
      },
      "execution_count": 67,
      "outputs": [
        {
          "output_type": "stream",
          "name": "stdout",
          "text": [
            "Combination:  (0.1, 100) , F1 score:  0.5721155528133258\n",
            "Combination:  (0.1, 200) , F1 score:  0.5724701210419376\n",
            "Combination:  (0.1, 400) , F1 score:  0.5725024347153809\n",
            "Combination:  (0.1, 500) , F1 score:  0.5728037802649923\n",
            "Combination:  (0.1, 1000) , F1 score:  0.5736074043182883\n",
            "Combination:  (0.2, 100) , F1 score:  0.5724956449641978\n",
            "Combination:  (0.2, 200) , F1 score:  0.5725024347153809\n",
            "Combination:  (0.2, 400) , F1 score:  0.5740559997510816\n",
            "Combination:  (0.2, 500) , F1 score:  0.5736074043182883\n",
            "Combination:  (0.2, 1000) , F1 score:  0.5730920792011125\n",
            "Combination:  (0.4, 100) , F1 score:  0.3509106906738535\n",
            "Combination:  (0.4, 200) , F1 score:  0.3513603240210481\n",
            "Combination:  (0.4, 400) , F1 score:  0.3514046745764834\n",
            "Combination:  (0.4, 500) , F1 score:  0.35079072743319945\n",
            "Combination:  (0.4, 1000) , F1 score:  0.35147171285301293\n",
            "Combination:  (0.01, 100) , F1 score:  0.5667232866628926\n",
            "Combination:  (0.01, 200) , F1 score:  0.5702858293477744\n",
            "Combination:  (0.01, 400) , F1 score:  0.5712597311544383\n",
            "Combination:  (0.01, 500) , F1 score:  0.5718555740066836\n",
            "Combination:  (0.01, 1000) , F1 score:  0.5721155135818448\n",
            "Combination:  (0.02, 100) , F1 score:  0.5703136993405776\n",
            "Combination:  (0.02, 200) , F1 score:  0.5712597311544383\n",
            "Combination:  (0.02, 400) , F1 score:  0.5720616631503137\n",
            "Combination:  (0.02, 500) , F1 score:  0.5721155135818448\n",
            "Combination:  (0.02, 1000) , F1 score:  0.5724701210419376\n",
            "Combination:  (0.04, 100) , F1 score:  0.57131197899064\n",
            "Combination:  (0.04, 200) , F1 score:  0.5720616631503137\n",
            "Combination:  (0.04, 400) , F1 score:  0.5722167072284926\n",
            "Combination:  (0.04, 500) , F1 score:  0.5724701210419376\n",
            "Combination:  (0.04, 1000) , F1 score:  0.5725027538994714\n"
          ]
        }
      ]
    },
    {
      "cell_type": "markdown",
      "source": [
        "Now let's tune our regularization parameter (lambda value)"
      ],
      "metadata": {
        "id": "9sj6gmsqdSPr"
      }
    },
    {
      "cell_type": "code",
      "source": [
        "  for k in range(len(lambda_values)):\n",
        "      model = LogisticRegression(\n",
        "        learning_rate = best_learning_rate, \n",
        "        n_iterations = best_n_iterations,\n",
        "        lambda_value = k)\n",
        "      \n",
        "      model.fit(X_train, y_train)\n",
        "      y_pred = model.predict(X_test)\n",
        "      curr_F1_score = model.F1_score(y_test, y_pred)\n",
        "\n",
        "      if best_F1_score < curr_F1_score:            \n",
        "          best_F1_score = curr_F1_score\n",
        "          best_lambda_value = lambda_values[k]\n"
      ],
      "metadata": {
        "id": "vzWqQ-eVdVsT"
      },
      "execution_count": 68,
      "outputs": []
    },
    {
      "cell_type": "code",
      "source": [
        "print(\"Best combination of hyperparameters: \")\n",
        "print(\"LR: \", best_learning_rate, \" N. Iters: \", best_n_iterations, \" Lambda: \", best_lambda_value)"
      ],
      "metadata": {
        "colab": {
          "base_uri": "https://localhost:8080/"
        },
        "id": "Rorc1Hztf1zR",
        "outputId": "2b337f97-14d6-4582-a309-b2259a86b3b3"
      },
      "execution_count": 69,
      "outputs": [
        {
          "output_type": "stream",
          "name": "stdout",
          "text": [
            "Best combination of hyperparameters: \n",
            "LR:  0.2  N. Iters:  400  Lambda:  0.001\n"
          ]
        }
      ]
    },
    {
      "cell_type": "code",
      "source": [
        "best_model = LogisticRegression(\n",
        "    learning_rate = best_learning_rate,\n",
        "    n_iterations = best_n_iterations,\n",
        "    lambda_value = best_lambda_value)\n",
        "\n",
        "best_model.fit(X_train, y_train)\n",
        "predictions = best_model.predict(X_test)\n",
        "\n",
        "print(classification_report(y_test, predictions))\n",
        "RocCurveDisplay.from_predictions(y_test, predictions)"
      ],
      "metadata": {
        "colab": {
          "base_uri": "https://localhost:8080/",
          "height": 459
        },
        "id": "8V5lX_jvEhsz",
        "outputId": "4dfe184d-584d-40e6-a5b7-a3c74860c398"
      },
      "execution_count": 70,
      "outputs": [
        {
          "output_type": "stream",
          "name": "stdout",
          "text": [
            "              precision    recall  f1-score   support\n",
            "\n",
            "           0       0.58      0.56      0.57     19533\n",
            "           1       0.57      0.59      0.58     19543\n",
            "\n",
            "    accuracy                           0.57     39076\n",
            "   macro avg       0.57      0.57      0.57     39076\n",
            "weighted avg       0.57      0.57      0.57     39076\n",
            "\n"
          ]
        },
        {
          "output_type": "execute_result",
          "data": {
            "text/plain": [
              "<sklearn.metrics._plot.roc_curve.RocCurveDisplay at 0x7fccb1805a50>"
            ]
          },
          "metadata": {},
          "execution_count": 70
        },
        {
          "output_type": "display_data",
          "data": {
            "text/plain": [
              "<Figure size 432x288 with 1 Axes>"
            ],
            "image/png": "[encoded data removed]"
          },
          "metadata": {
            "needs_background": "light"
          }
        }
      ]
    },
    {
      "cell_type": "markdown",
      "metadata": {
        "id": "1Q4NUSQIOrLf"
      },
      "source": [
        "Our model isn't great, but now let's compare our model with the Logistic Regression implementation in the MLlib library from PySpark: "
      ]
    },
    {
      "cell_type": "code",
      "execution_count": 71,
      "metadata": {
        "id": "AARevq0ROqTE"
      },
      "outputs": [],
      "source": [
        "from pyspark.ml.classification import LogisticRegression\n",
        "\n",
        "model2 = LogisticRegression(featuresCol = 'features', labelCol = 'CANCELLED', maxIter = 1000)\n",
        "model2 = model2.fit(train)"
      ]
    },
    {
      "cell_type": "code",
      "execution_count": 72,
      "metadata": {
        "id": "QA8nIIH9ScOW"
      },
      "outputs": [],
      "source": [
        "predictions_model2 = model2.transform(test)"
      ]
    },
    {
      "cell_type": "code",
      "execution_count": 73,
      "metadata": {
        "id": "2cUjTNc2TOxN"
      },
      "outputs": [],
      "source": [
        "y_true2 = predictions_model2.select(\"CANCELLED\")\n",
        "y_true2 = y_true2.toPandas()\n",
        "\n",
        "y_pred2 = predictions_model2.select(\"prediction\")\n",
        "y_pred2 = y_pred2.toPandas()"
      ]
    },
    {
      "cell_type": "code",
      "execution_count": 74,
      "metadata": {
        "colab": {
          "base_uri": "https://localhost:8080/"
        },
        "id": "ldpWBTjUT88p",
        "outputId": "2afb29b5-03e4-443c-a191-b7523bb29b22"
      },
      "outputs": [
        {
          "output_type": "stream",
          "name": "stdout",
          "text": [
            "              precision    recall  f1-score   support\n",
            "\n",
            "           0       0.58      0.55      0.56     19533\n",
            "           1       0.57      0.60      0.58     19543\n",
            "\n",
            "    accuracy                           0.57     39076\n",
            "   macro avg       0.57      0.57      0.57     39076\n",
            "weighted avg       0.57      0.57      0.57     39076\n",
            "\n"
          ]
        }
      ],
      "source": [
        "print(classification_report(y_true2, y_pred2))"
      ]
    },
    {
      "cell_type": "code",
      "execution_count": 75,
      "metadata": {
        "colab": {
          "base_uri": "https://localhost:8080/",
          "height": 297
        },
        "id": "x_ltoHO4HUo_",
        "outputId": "ae94e056-d0eb-4ded-b9f6-0a8f02412972"
      },
      "outputs": [
        {
          "output_type": "execute_result",
          "data": {
            "text/plain": [
              "<sklearn.metrics._plot.roc_curve.RocCurveDisplay at 0x7fcc9e526450>"
            ]
          },
          "metadata": {},
          "execution_count": 75
        },
        {
          "output_type": "display_data",
          "data": {
            "text/plain": [
              "<Figure size 432x288 with 1 Axes>"
            ],
            "image/png": "[encoded data removed]"
          },
          "metadata": {
            "needs_background": "light"
          }
        }
      ],
      "source": [
        "from sklearn.metrics import RocCurveDisplay\n",
        "\n",
        "RocCurveDisplay.from_predictions(y_true2, np.array(predictions_model2.select('prediction').collect()))"
      ]
    },
    {
      "cell_type": "markdown",
      "metadata": {
        "id": "9xvoDkIacSi9"
      },
      "source": [
        "Comparing both models, the metrics are almost identical. We can say that our implementation is fine."
      ]
    }
  ],
  "metadata": {
    "colab": {
      "collapsed_sections": [],
      "provenance": [],
      "authorship_tag": "ABX9TyMfocDFvIC+56NQarvchRuI",
      "include_colab_link": true
    },
    "kernelspec": {
      "display_name": "Python 3",
      "name": "python3"
    },
    "language_info": {
      "name": "python"
    }
  },
  "nbformat": 4,
  "nbformat_minor": 0
}