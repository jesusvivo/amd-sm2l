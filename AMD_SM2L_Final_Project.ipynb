{
  "cells": [
    {
      "cell_type": "markdown",
      "metadata": {
        "id": "view-in-github",
        "colab_type": "text"
      },
      "source": [
        "<a href=\"https://colab.research.google.com/github/jesusvivo/amd-sm2l/blob/main/AMD_SM2L_Final_Project.ipynb\" target=\"_parent\"><img src=\"https://colab.research.google.com/assets/colab-badge.svg\" alt=\"Open In Colab\"/></a>"
      ]
    },
    {
      "cell_type": "markdown",
      "metadata": {
        "id": "y-OzO5TYPk8A"
      },
      "source": [
        "# Analysis of flight cancellations in the US\n",
        "\n",
        "First we will retrieve the dataset from Kaggle following the steps at [Easiest way to download kaggle data in Google Colab](https://www.kaggle.com/general/74235)"
      ]
    },
    {
      "cell_type": "code",
      "execution_count": 1,
      "metadata": {
        "id": "kwuFvh64O5o-"
      },
      "outputs": [],
      "source": [
        "! pip install -q kaggle"
      ]
    },
    {
      "cell_type": "code",
      "execution_count": 2,
      "metadata": {
        "colab": {
          "base_uri": "https://localhost:8080/"
        },
        "id": "5IYTLqHYSvyv",
        "outputId": "47d3ddfe-08ea-4cf3-b8b7-3f4d7dcc8620"
      },
      "outputs": [
        {
          "output_type": "stream",
          "name": "stdout",
          "text": [
            "Looking in indexes: https://pypi.org/simple, https://us-python.pkg.dev/colab-wheels/public/simple/\n",
            "Collecting pyspark\n",
            "  Downloading pyspark-3.3.0.tar.gz (281.3 MB)\n",
            "\u001b[K     |████████████████████████████████| 281.3 MB 41 kB/s \n",
            "\u001b[?25hCollecting py4j==0.10.9.5\n",
            "  Downloading py4j-0.10.9.5-py2.py3-none-any.whl (199 kB)\n",
            "\u001b[K     |████████████████████████████████| 199 kB 44.7 MB/s \n",
            "\u001b[?25hBuilding wheels for collected packages: pyspark\n",
            "  Building wheel for pyspark (setup.py) ... \u001b[?25l\u001b[?25hdone\n",
            "  Created wheel for pyspark: filename=pyspark-3.3.0-py2.py3-none-any.whl size=281764026 sha256=cc7e2e4c56b03a43df807259ce0d74d8fee2edde8457b7578bf0d12a2a4425bd\n",
            "  Stored in directory: /root/.cache/pip/wheels/7a/8e/1b/f73a52650d2e5f337708d9f6a1750d451a7349a867f928b885\n",
            "Successfully built pyspark\n",
            "Installing collected packages: py4j, pyspark\n",
            "Successfully installed py4j-0.10.9.5 pyspark-3.3.0\n"
          ]
        }
      ],
      "source": [
        "! pip install pyspark"
      ]
    },
    {
      "cell_type": "code",
      "execution_count": 3,
      "metadata": {
        "colab": {
          "base_uri": "https://localhost:8080/"
        },
        "id": "iXVZbfgCt_Oe",
        "outputId": "a8aabaa2-2666-4bde-eabd-fb3b88513a43"
      },
      "outputs": [
        {
          "output_type": "stream",
          "name": "stdout",
          "text": [
            "Looking in indexes: https://pypi.org/simple, https://us-python.pkg.dev/colab-wheels/public/simple/\n",
            "Collecting findspark\n",
            "  Downloading findspark-2.0.1-py2.py3-none-any.whl (4.4 kB)\n",
            "Installing collected packages: findspark\n",
            "Successfully installed findspark-2.0.1\n"
          ]
        }
      ],
      "source": [
        "!pip install findspark"
      ]
    },
    {
      "cell_type": "markdown",
      "metadata": {
        "id": "hvtazC70QMiv"
      },
      "source": [
        "Now we must upload the Kaggle API token from our machine"
      ]
    },
    {
      "cell_type": "code",
      "execution_count": 4,
      "metadata": {
        "colab": {
          "base_uri": "https://localhost:8080/",
          "height": 92,
          "resources": {
            "http://localhost:8080/nbextensions/google.colab/files.js": {
              "data": "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",
              "headers": [
                [
                  "content-type",
                  "application/javascript"
                ]
              ],
              "ok": true,
              "status": 200,
              "status_text": ""
            }
          }
        },
        "id": "XtcxE1x2O_ra",
        "outputId": "4367b707-5a92-43d3-e710-dcd19089c61f"
      },
      "outputs": [
        {
          "output_type": "display_data",
          "data": {
            "text/plain": [
              "<IPython.core.display.HTML object>"
            ],
            "text/html": [
              "\n",
              "     <input type=\"file\" id=\"files-398cc594-c180-46a8-9fa8-b907fb6a4bd9\" name=\"files[]\" multiple disabled\n",
              "        style=\"border:none\" />\n",
              "     <output id=\"result-398cc594-c180-46a8-9fa8-b907fb6a4bd9\">\n",
              "      Upload widget is only available when the cell has been executed in the\n",
              "      current browser session. Please rerun this cell to enable.\n",
              "      </output>\n",
              "      <script src=\"/nbextensions/google.colab/files.js\"></script> "
            ]
          },
          "metadata": {}
        },
        {
          "output_type": "stream",
          "name": "stdout",
          "text": [
            "Saving kaggle.json to kaggle.json\n"
          ]
        },
        {
          "output_type": "execute_result",
          "data": {
            "text/plain": [
              "{'kaggle.json': b'{\"username\":\"jesusvivo\",\"key\":\"56a2f1ecbaabbec6b20715527201ac9d\"}'}"
            ]
          },
          "metadata": {},
          "execution_count": 4
        }
      ],
      "source": [
        "from google.colab import files\n",
        "\n",
        "files.upload()"
      ]
    },
    {
      "cell_type": "code",
      "execution_count": 5,
      "metadata": {
        "id": "HDgYRsF7PO5y"
      },
      "outputs": [],
      "source": [
        "! mkdir ~/.kaggle\n",
        "\n",
        "! cp kaggle.json ~/.kaggle/"
      ]
    },
    {
      "cell_type": "code",
      "execution_count": 6,
      "metadata": {
        "id": "hqTEWApgPhvC"
      },
      "outputs": [],
      "source": [
        "! chmod 600 ~/.kaggle/kaggle.json"
      ]
    },
    {
      "cell_type": "code",
      "execution_count": 7,
      "metadata": {
        "colab": {
          "base_uri": "https://localhost:8080/"
        },
        "id": "lE4KzJL7PkWA",
        "outputId": "3cde4015-8983-4f41-c629-50aff8cdac4e"
      },
      "outputs": [
        {
          "output_type": "stream",
          "name": "stdout",
          "text": [
            "ref                                                             title                                                size  lastUpdated          downloadCount  voteCount  usabilityRating  \n",
            "--------------------------------------------------------------  --------------------------------------------------  -----  -------------------  -------------  ---------  ---------------  \n",
            "victorsoeiro/netflix-tv-shows-and-movies                        Netflix TV Shows and Movies                           2MB  2022-05-15 00:01:23          12572        371  1.0              \n",
            "zusmani/petrolgas-prices-worldwide                              Petrol/Gas Prices Worldwide                          10KB  2022-06-24 01:25:33           1152         71  1.0              \n",
            "devansodariya/student-performance-data                          Student Performance Dataset                           7KB  2022-05-26 13:55:09           7287        209  0.9705882        \n",
            "ruchi798/data-science-job-salaries                              Data Science Job Salaries                             7KB  2022-06-15 08:59:12           1960         71  1.0              \n",
            "sameepvani/nasa-nearest-earth-objects                           NASA - Nearest Earth Objects                          7MB  2022-06-17 02:32:18           1182         63  1.0              \n",
            "iamsouravbanerjee/software-professional-salaries-2022           Salary Dataset - 2022                               526KB  2022-06-29 16:39:09           2611         75  1.0              \n",
            "dansbecker/melbourne-housing-snapshot                           Melbourne Housing Snapshot                          451KB  2018-06-05 12:52:24          90007       1100  0.7058824        \n",
            "imoore/age-dataset                                              Age dataset: life, work, and death of 1.22M people   34MB  2022-06-07 08:56:52           1408         71  1.0              \n",
            "madhurpant/data-science-jobs-in-india                           Data Science Jobs in India                           25KB  2022-06-24 02:28:42            302         17  1.0              \n",
            "mohamedharris/supermart-grocery-sales-retail-analytics-dataset  Supermart Grocery Sales - Retail Analytics Dataset  191KB  2022-06-12 16:14:44           1207         49  0.88235295       \n",
            "datasnaek/youtube-new                                           Trending YouTube Video Statistics                   201MB  2019-06-03 00:56:47         178111       4579  0.7941176        \n",
            "jimschacko/airlines-dataset-to-predict-a-delay                  Airlines Dataset to predict a delay                   6MB  2022-06-21 05:45:44            844         32  1.0              \n",
            "zynicide/wine-reviews                                           Wine Reviews                                         51MB  2017-11-27 17:08:04         162345       3331  0.7941176        \n",
            "iabhishekofficial/mobile-price-classification                   Mobile Price Classification                          71KB  2018-01-28 08:44:24          91141       1235  0.7058824        \n",
            "raddar/amex-data-integer-dtypes-parquet-format                  AMEX data - integer dtypes - parquet format           4GB  2022-06-03 10:31:28           3278        280  0.4375           \n",
            "hanzlanawaz/monkeypox-outbreak                                  Monkeypox Outbreak Dataset                           27KB  2022-06-06 03:13:58           1169         51  0.9705882        \n",
            "rtatman/188-million-us-wildfires                                1.88 Million US Wildfires                           168MB  2020-05-12 21:03:49          20554       1015  0.8235294        \n",
            "residentmario/ramen-ratings                                     Ramen Ratings                                        40KB  2018-01-11 16:04:39          34611        793  0.7058824        \n",
            "datasnaek/chess                                                 Chess Game Dataset (Lichess)                          3MB  2017-09-04 03:09:09          30291       1015  0.8235294        \n",
            "dansbecker/powerlifting-database                                powerlifting-database                                 9MB  2019-04-30 21:07:41           4823         56  0.5882353        \n"
          ]
        }
      ],
      "source": [
        "! kaggle datasets list"
      ]
    },
    {
      "cell_type": "code",
      "execution_count": 8,
      "metadata": {
        "colab": {
          "base_uri": "https://localhost:8080/"
        },
        "id": "Tb3SWxsnQfDG",
        "outputId": "60af2668-1648-4a37-a2c2-c676756d2408"
      },
      "outputs": [
        {
          "output_type": "stream",
          "name": "stdout",
          "text": [
            "Downloading airline-delay-and-cancellation-data-2009-2018.zip to /content\n",
            "100% 1.94G/1.95G [00:17<00:00, 121MB/s]\n",
            "100% 1.95G/1.95G [00:17<00:00, 116MB/s]\n"
          ]
        }
      ],
      "source": [
        "!kaggle datasets download -d yuanyuwendymu/airline-delay-and-cancellation-data-2009-2018"
      ]
    },
    {
      "cell_type": "code",
      "execution_count": 9,
      "metadata": {
        "id": "l8XtjtkFQmCt"
      },
      "outputs": [],
      "source": [
        "import zipfile\n",
        "path = 'airline-delay-and-cancellation-data-2009-2018.zip'\n",
        "folder = 'data'\n",
        "with zipfile.ZipFile(path, 'r') as zip_ref:\n",
        "    zip_ref.extractall(folder)"
      ]
    },
    {
      "cell_type": "code",
      "execution_count": 10,
      "metadata": {
        "colab": {
          "base_uri": "https://localhost:8080/"
        },
        "id": "tvsWFTiwR8KS",
        "outputId": "a99c9c08-cbcb-4926-ec29-41087f79d088"
      },
      "outputs": [
        {
          "output_type": "stream",
          "name": "stdout",
          "text": [
            "root\n",
            " |-- FL_DATE: string (nullable = true)\n",
            " |-- OP_CARRIER: string (nullable = true)\n",
            " |-- OP_CARRIER_FL_NUM: string (nullable = true)\n",
            " |-- ORIGIN: string (nullable = true)\n",
            " |-- DEST: string (nullable = true)\n",
            " |-- CRS_DEP_TIME: string (nullable = true)\n",
            " |-- DEP_TIME: string (nullable = true)\n",
            " |-- DEP_DELAY: string (nullable = true)\n",
            " |-- TAXI_OUT: string (nullable = true)\n",
            " |-- WHEELS_OFF: string (nullable = true)\n",
            " |-- WHEELS_ON: string (nullable = true)\n",
            " |-- TAXI_IN: string (nullable = true)\n",
            " |-- CRS_ARR_TIME: string (nullable = true)\n",
            " |-- ARR_TIME: string (nullable = true)\n",
            " |-- ARR_DELAY: string (nullable = true)\n",
            " |-- CANCELLED: string (nullable = true)\n",
            " |-- CANCELLATION_CODE: string (nullable = true)\n",
            " |-- DIVERTED: string (nullable = true)\n",
            " |-- CRS_ELAPSED_TIME: string (nullable = true)\n",
            " |-- ACTUAL_ELAPSED_TIME: string (nullable = true)\n",
            " |-- AIR_TIME: string (nullable = true)\n",
            " |-- DISTANCE: string (nullable = true)\n",
            " |-- CARRIER_DELAY: string (nullable = true)\n",
            " |-- WEATHER_DELAY: string (nullable = true)\n",
            " |-- NAS_DELAY: string (nullable = true)\n",
            " |-- SECURITY_DELAY: string (nullable = true)\n",
            " |-- LATE_AIRCRAFT_DELAY: string (nullable = true)\n",
            " |-- Unnamed: 27: string (nullable = true)\n",
            "\n"
          ]
        }
      ],
      "source": [
        "import findspark\n",
        "findspark.init()\n",
        "\n",
        "import pyspark\n",
        "from pyspark.sql import SparkSession\n",
        "\n",
        "spark = SparkSession.builder.master('local[1]') \\\n",
        "                    .appName('FinalProject') \\\n",
        "                    .getOrCreate()\n",
        "\n",
        "df = spark.read.option('header', True) \\\n",
        "     .csv(['data/2018.csv', 'data/2017.csv', 'data/2016.csv', 'data/2015.csv', 'data/2014.csv', \\\n",
        "           'data/2013.csv', 'data/2012.csv', 'data/2011.csv', 'data/2010.csv', 'data/2009.csv'])\n",
        "df.printSchema()\n"
      ]
    },
    {
      "cell_type": "code",
      "execution_count": 11,
      "metadata": {
        "colab": {
          "base_uri": "https://localhost:8080/"
        },
        "id": "qUgY7PlZWo6d",
        "outputId": "efba40a5-9080-4989-98a9-76a42adaad42"
      },
      "outputs": [
        {
          "output_type": "stream",
          "name": "stdout",
          "text": [
            "+----------+----------+-----------------+------+----+------------+--------+---------+--------+----------+---------+-------+------------+--------+---------+---------+-----------------+--------+----------------+-------------------+--------+--------+-------------+-------------+---------+--------------+-------------------+-----------+\n",
            "|   FL_DATE|OP_CARRIER|OP_CARRIER_FL_NUM|ORIGIN|DEST|CRS_DEP_TIME|DEP_TIME|DEP_DELAY|TAXI_OUT|WHEELS_OFF|WHEELS_ON|TAXI_IN|CRS_ARR_TIME|ARR_TIME|ARR_DELAY|CANCELLED|CANCELLATION_CODE|DIVERTED|CRS_ELAPSED_TIME|ACTUAL_ELAPSED_TIME|AIR_TIME|DISTANCE|CARRIER_DELAY|WEATHER_DELAY|NAS_DELAY|SECURITY_DELAY|LATE_AIRCRAFT_DELAY|Unnamed: 27|\n",
            "+----------+----------+-----------------+------+----+------------+--------+---------+--------+----------+---------+-------+------------+--------+---------+---------+-----------------+--------+----------------+-------------------+--------+--------+-------------+-------------+---------+--------------+-------------------+-----------+\n",
            "|2018-01-01|        UA|             2429|   EWR| DEN|        1517|  1512.0|     -5.0|    15.0|    1527.0|   1712.0|   10.0|        1745|  1722.0|    -23.0|      0.0|             null|     0.0|           268.0|              250.0|   225.0|  1605.0|         null|         null|     null|          null|               null|       null|\n",
            "|2018-01-01|        UA|             2427|   LAS| SFO|        1115|  1107.0|     -8.0|    11.0|    1118.0|   1223.0|    7.0|        1254|  1230.0|    -24.0|      0.0|             null|     0.0|            99.0|               83.0|    65.0|   414.0|         null|         null|     null|          null|               null|       null|\n",
            "|2018-01-01|        UA|             2426|   SNA| DEN|        1335|  1330.0|     -5.0|    15.0|    1345.0|   1631.0|    5.0|        1649|  1636.0|    -13.0|      0.0|             null|     0.0|           134.0|              126.0|   106.0|   846.0|         null|         null|     null|          null|               null|       null|\n",
            "|2018-01-01|        UA|             2425|   RSW| ORD|        1546|  1552.0|      6.0|    19.0|    1611.0|   1748.0|    6.0|        1756|  1754.0|     -2.0|      0.0|             null|     0.0|           190.0|              182.0|   157.0|  1120.0|         null|         null|     null|          null|               null|       null|\n",
            "|2018-01-01|        UA|             2424|   ORD| ALB|         630|   650.0|     20.0|    13.0|     703.0|    926.0|   10.0|         922|   936.0|     14.0|      0.0|             null|     0.0|           112.0|              106.0|    83.0|   723.0|         null|         null|     null|          null|               null|       null|\n",
            "+----------+----------+-----------------+------+----+------------+--------+---------+--------+----------+---------+-------+------------+--------+---------+---------+-----------------+--------+----------------+-------------------+--------+--------+-------------+-------------+---------+--------------+-------------------+-----------+\n",
            "only showing top 5 rows\n",
            "\n"
          ]
        }
      ],
      "source": [
        "df.show(5)"
      ]
    },
    {
      "cell_type": "markdown",
      "metadata": {
        "id": "UKXXaQRT1Ho9"
      },
      "source": [
        "Since we are only considering information prior to flight departure, we are going to keep only the columns that provide us that information"
      ]
    },
    {
      "cell_type": "code",
      "execution_count": 12,
      "metadata": {
        "colab": {
          "base_uri": "https://localhost:8080/"
        },
        "id": "s_MuMHyq10pV",
        "outputId": "6a25b848-544f-48f4-c46a-d98a722d7152"
      },
      "outputs": [
        {
          "output_type": "stream",
          "name": "stdout",
          "text": [
            "+----------+----------+------+----+------------+------------+---------+----------------+--------+\n",
            "|   FL_DATE|OP_CARRIER|ORIGIN|DEST|CRS_DEP_TIME|CRS_ARR_TIME|CANCELLED|CRS_ELAPSED_TIME|DISTANCE|\n",
            "+----------+----------+------+----+------------+------------+---------+----------------+--------+\n",
            "|2018-01-01|        UA|   EWR| DEN|        1517|        1745|      0.0|           268.0|  1605.0|\n",
            "|2018-01-01|        UA|   LAS| SFO|        1115|        1254|      0.0|            99.0|   414.0|\n",
            "|2018-01-01|        UA|   SNA| DEN|        1335|        1649|      0.0|           134.0|   846.0|\n",
            "|2018-01-01|        UA|   RSW| ORD|        1546|        1756|      0.0|           190.0|  1120.0|\n",
            "|2018-01-01|        UA|   ORD| ALB|         630|         922|      0.0|           112.0|   723.0|\n",
            "|2018-01-01|        UA|   ORD| OMA|        2241|          14|      0.0|            93.0|   416.0|\n",
            "|2018-01-01|        UA|   IAH| LAS|         750|         916|      0.0|           206.0|  1222.0|\n",
            "|2018-01-01|        UA|   DEN| CID|        1324|        1619|      0.0|           115.0|   692.0|\n",
            "|2018-01-01|        UA|   SMF| EWR|        2224|         638|      0.0|           314.0|  2500.0|\n",
            "|2018-01-01|        UA|   RIC| DEN|        1601|        1813|      0.0|           252.0|  1482.0|\n",
            "+----------+----------+------+----+------------+------------+---------+----------------+--------+\n",
            "only showing top 10 rows\n",
            "\n"
          ]
        }
      ],
      "source": [
        "columns_to_keep = ['FL_DATE', 'OP_CARRIER', 'ORIGIN', 'DEST', 'CRS_DEP_TIME', 'CRS_ARR_TIME', 'CANCELLED', 'CRS_ELAPSED_TIME', 'DISTANCE']\n",
        "\n",
        "df = df.select(columns_to_keep)\n",
        "\n",
        "df.show(10)"
      ]
    },
    {
      "cell_type": "markdown",
      "metadata": {
        "id": "xdprMAwQztPL"
      },
      "source": [
        "Let's see the distribution of the classes in our dataset"
      ]
    },
    {
      "cell_type": "code",
      "execution_count": 13,
      "metadata": {
        "colab": {
          "base_uri": "https://localhost:8080/"
        },
        "id": "nn-du5PT5wzR",
        "outputId": "ff3dc2af-1c68-4fe8-a589-3500495a5b57"
      },
      "outputs": [
        {
          "output_type": "stream",
          "name": "stdout",
          "text": [
            "+---------+--------+\n",
            "|CANCELLED|   count|\n",
            "+---------+--------+\n",
            "|      1.0|  973209|\n",
            "|      0.0|60583755|\n",
            "+---------+--------+\n",
            "\n"
          ]
        }
      ],
      "source": [
        "df.groupBy('CANCELLED').count().show()"
      ]
    },
    {
      "cell_type": "markdown",
      "metadata": {
        "id": "pddEL3iXyMZN"
      },
      "source": [
        "Since we have much more items from the non cancelled class, and we have over 7 million elements, we are going to undersample the majority class in order to balance our dataset"
      ]
    },
    {
      "cell_type": "code",
      "execution_count": 14,
      "metadata": {
        "id": "iQf6_uSPwIFd"
      },
      "outputs": [],
      "source": [
        "from pyspark.sql.functions import col\n",
        "\n",
        "def resample(dataframe, column, positive_value):\n",
        "    positives = dataframe.filter(col(column) == positive_value)\n",
        "    negatives = dataframe.filter(col(column) != positive_value)\n",
        "    total_positives = positives.count()\n",
        "    total_negatives = negatives.count()\n",
        "    ratio = float(total_positives) / float(total_negatives)\n",
        "    sampled = negatives.sample(False, ratio)\n",
        "    return sampled.union(positives)\n",
        "\n",
        "df = resample(df, 'CANCELLED', '1.0')\n"
      ]
    },
    {
      "cell_type": "code",
      "execution_count": 15,
      "metadata": {
        "colab": {
          "base_uri": "https://localhost:8080/"
        },
        "id": "CpYDqB5x1rVn",
        "outputId": "4d9603c8-bde6-4f39-c05f-f838ee20a62a"
      },
      "outputs": [
        {
          "output_type": "stream",
          "name": "stdout",
          "text": [
            "+---------+------+\n",
            "|CANCELLED| count|\n",
            "+---------+------+\n",
            "|      0.0|972165|\n",
            "|      1.0|973209|\n",
            "+---------+------+\n",
            "\n"
          ]
        }
      ],
      "source": [
        "df.groupBy('CANCELLED').count().show()"
      ]
    },
    {
      "cell_type": "markdown",
      "metadata": {
        "id": "OX_BqeueTtQd"
      },
      "source": [
        "Now our dataset is balanced. Now we are going to divide the flight date column into two new columns: weekday and month, in order to prepare this variable for the model"
      ]
    },
    {
      "cell_type": "code",
      "execution_count": 16,
      "metadata": {
        "colab": {
          "base_uri": "https://localhost:8080/"
        },
        "id": "eNNEwpQG9Fpq",
        "outputId": "14e46c5a-8df4-4181-9296-996cab7716c3"
      },
      "outputs": [
        {
          "output_type": "stream",
          "name": "stdout",
          "text": [
            "+----------+------+----+------------+------------+---------+----------------+--------+---------------+-------------+\n",
            "|OP_CARRIER|ORIGIN|DEST|CRS_DEP_TIME|CRS_ARR_TIME|CANCELLED|CRS_ELAPSED_TIME|DISTANCE|FL_DATE_WEEKDAY|FL_DATE_MONTH|\n",
            "+----------+------+----+------------+------------+---------+----------------+--------+---------------+-------------+\n",
            "|        UA|   DEN| IAH|        1900|        2219|      0.0|           139.0|   862.0|              2|            1|\n",
            "|        UA|   TPA| EWR|         745|        1025|      0.0|           160.0|   997.0|              2|            1|\n",
            "|        UA|   IAH| EWR|        2005|          30|      0.0|           205.0|  1400.0|              2|            1|\n",
            "|        UA|   LIH| SFO|        2210|         518|      0.0|           308.0|  2447.0|              2|            1|\n",
            "|        UA|   SNA| ORD|         655|        1306|      0.0|           251.0|  1726.0|              2|            1|\n",
            "|        UA|   ORD| EWR|        1035|        1345|      0.0|           130.0|   719.0|              2|            1|\n",
            "|        UA|   DEN| ANC|        1900|        2248|      0.0|           348.0|  2405.0|              2|            1|\n",
            "|        UA|   TPA| EWR|         704|         944|      0.0|           160.0|   997.0|              2|            1|\n",
            "|        UA|   SFO| MCO|        2232|         649|      0.0|           317.0|  2446.0|              2|            1|\n",
            "|        UA|   EWR| LAX|        2159|         120|      0.0|           381.0|  2454.0|              2|            1|\n",
            "+----------+------+----+------------+------------+---------+----------------+--------+---------------+-------------+\n",
            "only showing top 10 rows\n",
            "\n"
          ]
        }
      ],
      "source": [
        "from pyspark.sql.functions import dayofweek, month\n",
        "\n",
        "df = df.withColumn('FL_DATE_WEEKDAY', dayofweek('FL_DATE')).withColumn('FL_DATE_MONTH', month('FL_DATE'))\n",
        "df = df.drop(df.FL_DATE)\n",
        "df.show(10)"
      ]
    },
    {
      "cell_type": "markdown",
      "source": [
        "Our next step will be turning the column OP_CARRIER, which is the airline of the flight, into a numerical column, called AIRLINE_ID"
      ],
      "metadata": {
        "id": "gGMXdI5H4Prn"
      }
    },
    {
      "cell_type": "code",
      "execution_count": 17,
      "metadata": {
        "colab": {
          "base_uri": "https://localhost:8080/"
        },
        "id": "XcAYJlfAHeOL",
        "outputId": "98b148ca-5813-4f05-f5bd-0e106e4ff6a2"
      },
      "outputs": [
        {
          "output_type": "stream",
          "name": "stdout",
          "text": [
            "+------+----+------------+------------+---------+----------------+--------+---------------+-------------+----------+\n",
            "|ORIGIN|DEST|CRS_DEP_TIME|CRS_ARR_TIME|CANCELLED|CRS_ELAPSED_TIME|DISTANCE|FL_DATE_WEEKDAY|FL_DATE_MONTH|AIRLINE_ID|\n",
            "+------+----+------------+------------+---------+----------------+--------+---------------+-------------+----------+\n",
            "|   DEN| IAH|        1900|        2219|      0.0|           139.0|   862.0|              2|            1|       6.0|\n",
            "|   TPA| EWR|         745|        1025|      0.0|           160.0|   997.0|              2|            1|       6.0|\n",
            "|   IAH| EWR|        2005|          30|      0.0|           205.0|  1400.0|              2|            1|       6.0|\n",
            "|   LIH| SFO|        2210|         518|      0.0|           308.0|  2447.0|              2|            1|       6.0|\n",
            "|   SNA| ORD|         655|        1306|      0.0|           251.0|  1726.0|              2|            1|       6.0|\n",
            "|   ORD| EWR|        1035|        1345|      0.0|           130.0|   719.0|              2|            1|       6.0|\n",
            "|   DEN| ANC|        1900|        2248|      0.0|           348.0|  2405.0|              2|            1|       6.0|\n",
            "|   TPA| EWR|         704|         944|      0.0|           160.0|   997.0|              2|            1|       6.0|\n",
            "|   SFO| MCO|        2232|         649|      0.0|           317.0|  2446.0|              2|            1|       6.0|\n",
            "|   EWR| LAX|        2159|         120|      0.0|           381.0|  2454.0|              2|            1|       6.0|\n",
            "+------+----+------------+------------+---------+----------------+--------+---------------+-------------+----------+\n",
            "only showing top 10 rows\n",
            "\n"
          ]
        }
      ],
      "source": [
        "from pyspark.ml.feature import StringIndexer\n",
        "\n",
        "indexer = StringIndexer(inputCol = 'OP_CARRIER', outputCol = 'AIRLINE_ID') \n",
        "df = indexer.fit(df).transform(df) \n",
        "df = df.drop(df.OP_CARRIER)\n",
        "\n",
        "df.show(10)"
      ]
    },
    {
      "cell_type": "markdown",
      "source": [
        "Let's do the same now for the ORIGIN and DEST columns"
      ],
      "metadata": {
        "id": "CtTtnVAc4b-B"
      }
    },
    {
      "cell_type": "code",
      "execution_count": 18,
      "metadata": {
        "colab": {
          "base_uri": "https://localhost:8080/"
        },
        "id": "DzbwAZk9Qnms",
        "outputId": "2982edce-cd77-475d-a5a9-d3c35cc12c1b"
      },
      "outputs": [
        {
          "output_type": "stream",
          "name": "stdout",
          "text": [
            "+------------+------------+---------+----------------+--------+---------------+-------------+----------+---------+-------+\n",
            "|CRS_DEP_TIME|CRS_ARR_TIME|CANCELLED|CRS_ELAPSED_TIME|DISTANCE|FL_DATE_WEEKDAY|FL_DATE_MONTH|AIRLINE_ID|ORIGIN_ID|DEST_ID|\n",
            "+------------+------------+---------+----------------+--------+---------------+-------------+----------+---------+-------+\n",
            "|        1900|        2219|      0.0|           139.0|   862.0|              2|            1|       6.0|    278.0|  205.0|\n",
            "|         745|        1025|      0.0|           160.0|   997.0|              2|            1|       6.0|     21.0|  256.0|\n",
            "|        2005|          30|      0.0|           205.0|  1400.0|              2|            1|       6.0|    204.0|  256.0|\n",
            "|        2210|         518|      0.0|           308.0|  2447.0|              2|            1|       6.0|    165.0|   52.0|\n",
            "|         655|        1306|      0.0|           251.0|  1726.0|              2|            1|       6.0|     39.0|  115.0|\n",
            "|        1035|        1345|      0.0|           130.0|   719.0|              2|            1|       6.0|    114.0|  256.0|\n",
            "|        1900|        2248|      0.0|           348.0|  2405.0|              2|            1|       6.0|    278.0|  356.0|\n",
            "|         704|         944|      0.0|           160.0|   997.0|              2|            1|       6.0|     21.0|  256.0|\n",
            "|        2232|         649|      0.0|           317.0|  2446.0|              2|            1|       6.0|     52.0|  154.0|\n",
            "|        2159|         120|      0.0|           381.0|  2454.0|              2|            1|       6.0|    255.0|  177.0|\n",
            "+------------+------------+---------+----------------+--------+---------------+-------------+----------+---------+-------+\n",
            "only showing top 10 rows\n",
            "\n"
          ]
        }
      ],
      "source": [
        "indexer = StringIndexer(inputCol = 'ORIGIN', outputCol = 'ORIGIN_ID', stringOrderType = 'alphabetDesc') \n",
        "df = indexer.fit(df).transform(df) \n",
        "df = df.drop(df.ORIGIN)\n",
        "\n",
        "indexer = StringIndexer(inputCol = 'DEST', outputCol = 'DEST_ID', stringOrderType = 'alphabetDesc') \n",
        "df = indexer.fit(df).transform(df) \n",
        "df = df.drop(df.DEST)\n",
        "\n",
        "df.show(10)"
      ]
    },
    {
      "cell_type": "markdown",
      "source": [
        "Finally, we are going to drop the CRS_ARR_TIME and DISTANCE columns, since they have a strong correlation with the CRS_DEP_TIME and CRS_ELAPSED_TIME columns, respectively. We are going to keep the latter ones because their values are lower and have less variance."
      ],
      "metadata": {
        "id": "ytPLP1Hm4lWM"
      }
    },
    {
      "cell_type": "code",
      "execution_count": 19,
      "metadata": {
        "colab": {
          "base_uri": "https://localhost:8080/"
        },
        "id": "OE48MpU3TNuA",
        "outputId": "816c81ff-2d7b-4e15-9808-38f812ae06ef"
      },
      "outputs": [
        {
          "output_type": "stream",
          "name": "stdout",
          "text": [
            "+------------+---------+----------------+---------------+-------------+----------+---------+-------+\n",
            "|CRS_DEP_TIME|CANCELLED|CRS_ELAPSED_TIME|FL_DATE_WEEKDAY|FL_DATE_MONTH|AIRLINE_ID|ORIGIN_ID|DEST_ID|\n",
            "+------------+---------+----------------+---------------+-------------+----------+---------+-------+\n",
            "|        1900|      0.0|           139.0|              2|            1|       6.0|    278.0|  205.0|\n",
            "|         745|      0.0|           160.0|              2|            1|       6.0|     21.0|  256.0|\n",
            "|        2005|      0.0|           205.0|              2|            1|       6.0|    204.0|  256.0|\n",
            "|        2210|      0.0|           308.0|              2|            1|       6.0|    165.0|   52.0|\n",
            "|         655|      0.0|           251.0|              2|            1|       6.0|     39.0|  115.0|\n",
            "|        1035|      0.0|           130.0|              2|            1|       6.0|    114.0|  256.0|\n",
            "|        1900|      0.0|           348.0|              2|            1|       6.0|    278.0|  356.0|\n",
            "|         704|      0.0|           160.0|              2|            1|       6.0|     21.0|  256.0|\n",
            "|        2232|      0.0|           317.0|              2|            1|       6.0|     52.0|  154.0|\n",
            "|        2159|      0.0|           381.0|              2|            1|       6.0|    255.0|  177.0|\n",
            "+------------+---------+----------------+---------------+-------------+----------+---------+-------+\n",
            "only showing top 10 rows\n",
            "\n"
          ]
        }
      ],
      "source": [
        "df = df.drop('CRS_ARR_TIME', 'DISTANCE')\n",
        "df.show(10)"
      ]
    },
    {
      "cell_type": "markdown",
      "source": [
        "As last steps of cleaning and preparing the datasets, we will select the final list of features for our model in order to normalize them and remove any that has some missing value"
      ],
      "metadata": {
        "id": "XqRNq6XD5AVd"
      }
    },
    {
      "cell_type": "code",
      "execution_count": 20,
      "metadata": {
        "id": "CocU4QrpTGln"
      },
      "outputs": [],
      "source": [
        "cols_to_normalize = ['CRS_DEP_TIME', 'CRS_ELAPSED_TIME', 'FL_DATE_WEEKDAY','FL_DATE_MONTH','AIRLINE_ID', 'ORIGIN_ID','DEST_ID']\n",
        "\n",
        "df = df.dropna(how = 'any')"
      ]
    },
    {
      "cell_type": "code",
      "execution_count": 21,
      "metadata": {
        "colab": {
          "base_uri": "https://localhost:8080/"
        },
        "id": "6SJQ7KswnB56",
        "outputId": "a2606de5-0f66-4e36-b990-f6cd2ac5190c"
      },
      "outputs": [
        {
          "output_type": "stream",
          "name": "stdout",
          "text": [
            "root\n",
            " |-- CRS_DEP_TIME: string (nullable = true)\n",
            " |-- CANCELLED: string (nullable = true)\n",
            " |-- CRS_ELAPSED_TIME: string (nullable = true)\n",
            " |-- FL_DATE_WEEKDAY: integer (nullable = true)\n",
            " |-- FL_DATE_MONTH: integer (nullable = true)\n",
            " |-- AIRLINE_ID: double (nullable = false)\n",
            " |-- ORIGIN_ID: double (nullable = false)\n",
            " |-- DEST_ID: double (nullable = false)\n",
            "\n"
          ]
        }
      ],
      "source": [
        "df.printSchema()"
      ]
    },
    {
      "cell_type": "markdown",
      "source": [
        "We are going to transform the columns that are strings into integers in order to build the vector of features correctly"
      ],
      "metadata": {
        "id": "D3sk2YTs5WGr"
      }
    },
    {
      "cell_type": "code",
      "execution_count": 22,
      "metadata": {
        "id": "9vZB6g-onWyI"
      },
      "outputs": [],
      "source": [
        "df = df.withColumn('CRS_DEP_TIME', df.CRS_DEP_TIME.cast('int')) \\\n",
        "        .withColumn('CANCELLED', df.CANCELLED.cast('int')) \\\n",
        "        .withColumn('CRS_ELAPSED_TIME', df.CRS_ELAPSED_TIME.cast('int'))"
      ]
    },
    {
      "cell_type": "code",
      "execution_count": 23,
      "metadata": {
        "colab": {
          "base_uri": "https://localhost:8080/"
        },
        "id": "vlBoEmizoT1s",
        "outputId": "355faedd-f8b7-47e2-f613-d27785728942"
      },
      "outputs": [
        {
          "output_type": "stream",
          "name": "stdout",
          "text": [
            "root\n",
            " |-- CRS_DEP_TIME: integer (nullable = true)\n",
            " |-- CANCELLED: integer (nullable = true)\n",
            " |-- CRS_ELAPSED_TIME: integer (nullable = true)\n",
            " |-- FL_DATE_WEEKDAY: integer (nullable = true)\n",
            " |-- FL_DATE_MONTH: integer (nullable = true)\n",
            " |-- AIRLINE_ID: double (nullable = false)\n",
            " |-- ORIGIN_ID: double (nullable = false)\n",
            " |-- DEST_ID: double (nullable = false)\n",
            "\n"
          ]
        }
      ],
      "source": [
        "df.printSchema()"
      ]
    },
    {
      "cell_type": "markdown",
      "source": [
        "Adding a new column with the vectorized features"
      ],
      "metadata": {
        "id": "bAkAImYU5mEd"
      }
    },
    {
      "cell_type": "code",
      "execution_count": 24,
      "metadata": {
        "colab": {
          "base_uri": "https://localhost:8080/"
        },
        "id": "lb91A5Ghh9pD",
        "outputId": "54457bd4-a048-4d9c-a39d-42bdd016fab2"
      },
      "outputs": [
        {
          "output_type": "stream",
          "name": "stdout",
          "text": [
            "+------------+---------+----------------+---------------+-------------+----------+---------+-------+--------------------+\n",
            "|CRS_DEP_TIME|CANCELLED|CRS_ELAPSED_TIME|FL_DATE_WEEKDAY|FL_DATE_MONTH|AIRLINE_ID|ORIGIN_ID|DEST_ID| vectorized_features|\n",
            "+------------+---------+----------------+---------------+-------------+----------+---------+-------+--------------------+\n",
            "|        1900|        0|             139|              2|            1|       6.0|    278.0|  205.0|[1900.0,139.0,2.0...|\n",
            "|         745|        0|             160|              2|            1|       6.0|     21.0|  256.0|[745.0,160.0,2.0,...|\n",
            "|        2005|        0|             205|              2|            1|       6.0|    204.0|  256.0|[2005.0,205.0,2.0...|\n",
            "|        2210|        0|             308|              2|            1|       6.0|    165.0|   52.0|[2210.0,308.0,2.0...|\n",
            "|         655|        0|             251|              2|            1|       6.0|     39.0|  115.0|[655.0,251.0,2.0,...|\n",
            "|        1035|        0|             130|              2|            1|       6.0|    114.0|  256.0|[1035.0,130.0,2.0...|\n",
            "|        1900|        0|             348|              2|            1|       6.0|    278.0|  356.0|[1900.0,348.0,2.0...|\n",
            "|         704|        0|             160|              2|            1|       6.0|     21.0|  256.0|[704.0,160.0,2.0,...|\n",
            "|        2232|        0|             317|              2|            1|       6.0|     52.0|  154.0|[2232.0,317.0,2.0...|\n",
            "|        2159|        0|             381|              2|            1|       6.0|    255.0|  177.0|[2159.0,381.0,2.0...|\n",
            "+------------+---------+----------------+---------------+-------------+----------+---------+-------+--------------------+\n",
            "only showing top 10 rows\n",
            "\n"
          ]
        }
      ],
      "source": [
        "from pyspark.ml.feature import VectorAssembler\n",
        "\n",
        "assembler = VectorAssembler().setInputCols(cols_to_normalize).setOutputCol('vectorized_features')\n",
        "df = assembler.transform(df)\n",
        "df.show(10)"
      ]
    },
    {
      "cell_type": "markdown",
      "source": [
        "Normalizing the features vector and getting the final vector that will be the input for our model"
      ],
      "metadata": {
        "id": "39Bc2aDh5pFC"
      }
    },
    {
      "cell_type": "code",
      "execution_count": 25,
      "metadata": {
        "id": "2cH6b61KorqQ",
        "colab": {
          "base_uri": "https://localhost:8080/"
        },
        "outputId": "07b716ab-132f-4b69-ee04-066262688958"
      },
      "outputs": [
        {
          "output_type": "stream",
          "name": "stdout",
          "text": [
            "+------------+---------+----------------+---------------+-------------+----------+---------+-------+--------------------+--------------------+\n",
            "|CRS_DEP_TIME|CANCELLED|CRS_ELAPSED_TIME|FL_DATE_WEEKDAY|FL_DATE_MONTH|AIRLINE_ID|ORIGIN_ID|DEST_ID| vectorized_features|            features|\n",
            "+------------+---------+----------------+---------------+-------------+----------+---------+-------+--------------------+--------------------+\n",
            "|        1900|        0|             139|              2|            1|       6.0|    278.0|  205.0|[1900.0,139.0,2.0...|[3.96645704679298...|\n",
            "|         745|        0|             160|              2|            1|       6.0|     21.0|  256.0|[745.0,160.0,2.0,...|[1.55526868413725...|\n",
            "|        2005|        0|             205|              2|            1|       6.0|    204.0|  256.0|[2005.0,205.0,2.0...|[4.18565598885260...|\n",
            "|        2210|        0|             308|              2|            1|       6.0|    165.0|   52.0|[2210.0,308.0,2.0...|[4.61361582811184...|\n",
            "|         655|        0|             251|              2|            1|       6.0|     39.0|  115.0|[655.0,251.0,2.0,...|[1.36738387665758...|\n",
            "|        1035|        0|             130|              2|            1|       6.0|    114.0|  256.0|[1035.0,130.0,2.0...|[2.16067528601618...|\n",
            "|        1900|        0|             348|              2|            1|       6.0|    278.0|  356.0|[1900.0,348.0,2.0...|[3.96645704679298...|\n",
            "|         704|        0|             160|              2|            1|       6.0|     21.0|  256.0|[704.0,160.0,2.0,...|[1.46967671628540...|\n",
            "|        2232|        0|             317|              2|            1|       6.0|     52.0|  154.0|[2232.0,317.0,2.0...|[4.65954322549576...|\n",
            "|        2159|        0|             381|              2|            1|       6.0|    255.0|  177.0|[2159.0,381.0,2.0...|[4.50714777054003...|\n",
            "+------------+---------+----------------+---------------+-------------+----------+---------+-------+--------------------+--------------------+\n",
            "only showing top 10 rows\n",
            "\n"
          ]
        }
      ],
      "source": [
        "from pyspark.ml.feature import StandardScaler\n",
        "\n",
        "scaler = StandardScaler().setInputCol('vectorized_features').setOutputCol('features')\n",
        "df = scaler.fit(df).transform(df)\n",
        "df.show(10)"
      ]
    },
    {
      "cell_type": "markdown",
      "source": [
        "Our dataset is ready to be trained. Let's split it and build our model with it. We will convert our PySpark Dataframes to NumPy arrays, in order to perform the mathematical operations with them"
      ],
      "metadata": {
        "id": "-PLQ_9XO5s3A"
      }
    },
    {
      "cell_type": "code",
      "source": [
        "train, test = df.randomSplit([0.8, 0.2])"
      ],
      "metadata": {
        "id": "rznMKHIzGk5j"
      },
      "execution_count": 26,
      "outputs": []
    },
    {
      "cell_type": "code",
      "source": [
        "import numpy as np\n",
        "\n",
        "X_train = np.array(train.select('features').collect())\n",
        "X_train = np.reshape(X_train, (len(X_train), len(X_train[0][0])))\n",
        "\n",
        "X_test = np.array(test.select('features').collect())\n",
        "X_test = np.reshape(X_test, (len(X_test), len(X_test[0][0])))\n",
        "\n",
        "y_train = np.array(train.select('CANCELLED').collect())\n",
        "y_train = np.reshape(y_train, (len(y_train),))\n",
        "\n",
        "y_test = np.array(test.select('CANCELLED').collect())\n",
        "y_test = np.reshape(y_test, (len(y_test),))"
      ],
      "metadata": {
        "id": "Qs0wmx6oG8dv"
      },
      "execution_count": 27,
      "outputs": []
    },
    {
      "cell_type": "code",
      "source": [
        "class LogisticRegression:\n",
        "    def __init__(self, learning_rate = 0.01, n_iterations = 1000):\n",
        "        self.learning_rate = learning_rate\n",
        "        self.n_iterations = n_iterations\n",
        "        self.weights = None\n",
        "        self.bias = None\n",
        "\n",
        "    def sigmoid(self, x):\n",
        "        return 1 / (1 + np.exp(-x))\n",
        "\n",
        "    def fit(self, X, y):        \n",
        "        M, N = X.shape\n",
        "\n",
        "        # First we initialize the weights vector, which has a size equal to \n",
        "        # the number of features, with zeros\n",
        "        # We also set the initial bias parameter to 0\n",
        "\n",
        "        self.weights = np.zeros(N)\n",
        "        self.bias = 0\n",
        "\n",
        "        # We initiate now the learning loop\n",
        "\n",
        "        for i in range(self.n_iterations):\n",
        "            # Calculate the prediction applying the y = w · x + b linear function.\n",
        "            # Then apply the sigmoid function to the linear prediction\n",
        "            # so that it returns a value between 0 and 1.\n",
        "\n",
        "            Z = np.dot(X, self.weights) + self.bias\n",
        "            y_predicted = self.sigmoid(Z)\n",
        "\n",
        "            # We now compute the cost using the log loss function, \n",
        "            # in order to test different hyperparameter settings\n",
        "            cost = - (1 / M) * np.sum(y * np.log(y_predicted) + (1 - y) *  np.log(1 - y_predicted))\n",
        "\n",
        "            if i % 100 == 0:\n",
        "              print(i, 'th iteration, log loss:', cost)\n",
        "\n",
        "            # Apply gradient descent to optimize weights and bias and update them\n",
        "            dW = (1 / M) * np.dot(X.T, (y_predicted - y))\n",
        "            dB = (1 / M) * np.sum(y_predicted - y)\n",
        "\n",
        "            self.weights = self.weights - self.learning_rate * dW\n",
        "            self.bias = self.bias - self.learning_rate * dB\n",
        "\n",
        "    def predict(self, X):\n",
        "        Z = np.dot(X, self.weights) + self.bias\n",
        "        y_predicted = self.sigmoid(Z)\n",
        "\n",
        "        y_predicted = [1 if i > 0.5 else 0 for i in y_predicted]\n",
        "\n",
        "        return np.array(y_predicted)"
      ],
      "metadata": {
        "id": "ZwZ3wTK_1de4"
      },
      "execution_count": 28,
      "outputs": []
    },
    {
      "cell_type": "code",
      "source": [
        "model = LogisticRegression(learning_rate = 0.2, n_iterations = 1000)\n",
        "model.fit(X_train, y_train)\n",
        "predictions = model.predict(X_test)"
      ],
      "metadata": {
        "colab": {
          "base_uri": "https://localhost:8080/"
        },
        "id": "qZ1xDg-OH6ph",
        "outputId": "1f9db1b7-1e14-44eb-8cc3-21580d04dbc8"
      },
      "execution_count": 29,
      "outputs": [
        {
          "output_type": "stream",
          "name": "stdout",
          "text": [
            "0 th iteration, log loss: 0.6931471805599465\n",
            "100 th iteration, log loss: 0.6773129105907442\n",
            "200 th iteration, log loss: 0.677034830510787\n",
            "300 th iteration, log loss: 0.6768337474611303\n",
            "400 th iteration, log loss: 0.6766878815257485\n",
            "500 th iteration, log loss: 0.6765820437360683\n",
            "600 th iteration, log loss: 0.6765052307402757\n",
            "700 th iteration, log loss: 0.6764494697427694\n",
            "800 th iteration, log loss: 0.6764089822492722\n",
            "900 th iteration, log loss: 0.6763795788615198\n"
          ]
        }
      ]
    },
    {
      "cell_type": "markdown",
      "source": [
        "Let's see the metrics for our model:"
      ],
      "metadata": {
        "id": "yxRDX82cOeFr"
      }
    },
    {
      "cell_type": "code",
      "source": [
        "from sklearn.metrics import classification_report\n",
        "\n",
        "print(classification_report(y_test, predictions))"
      ],
      "metadata": {
        "colab": {
          "base_uri": "https://localhost:8080/"
        },
        "id": "Npvl83CZ2eWn",
        "outputId": "ccc7cc34-9236-4ddb-c48c-e0559159409f"
      },
      "execution_count": 30,
      "outputs": [
        {
          "output_type": "stream",
          "name": "stdout",
          "text": [
            "              precision    recall  f1-score   support\n",
            "\n",
            "           0       0.58      0.55      0.57    194899\n",
            "           1       0.57      0.60      0.58    194411\n",
            "\n",
            "    accuracy                           0.57    389310\n",
            "   macro avg       0.58      0.57      0.57    389310\n",
            "weighted avg       0.58      0.57      0.57    389310\n",
            "\n"
          ]
        }
      ]
    },
    {
      "cell_type": "code",
      "source": [
        "from sklearn.metrics import RocCurveDisplay\n",
        "\n",
        "RocCurveDisplay.from_predictions(y_test, predictions)"
      ],
      "metadata": {
        "colab": {
          "base_uri": "https://localhost:8080/",
          "height": 297
        },
        "id": "k1zLun0BPF0g",
        "outputId": "e1acecaa-6a44-4713-9b3f-d349402ece8c"
      },
      "execution_count": 31,
      "outputs": [
        {
          "output_type": "execute_result",
          "data": {
            "text/plain": [
              "<sklearn.metrics._plot.roc_curve.RocCurveDisplay at 0x7f4a5becfb90>"
            ]
          },
          "metadata": {},
          "execution_count": 31
        },
        {
          "output_type": "display_data",
          "data": {
            "text/plain": [
              "<Figure size 432x288 with 1 Axes>"
            ],
            "image/png": "[encoded data removed]"
          },
          "metadata": {
            "needs_background": "light"
          }
        }
      ]
    },
    {
      "cell_type": "markdown",
      "source": [
        "Our model isn't great, but now let's compare our model with the Logistic Regression implementation in the MLlib library from PySpark: "
      ],
      "metadata": {
        "id": "1Q4NUSQIOrLf"
      }
    },
    {
      "cell_type": "code",
      "source": [
        "from pyspark.ml.classification import LogisticRegression\n",
        "\n",
        "model2 = LogisticRegression(featuresCol = 'features', labelCol = 'CANCELLED', maxIter = 1000)\n",
        "model2 = model2.fit(train)"
      ],
      "metadata": {
        "id": "AARevq0ROqTE"
      },
      "execution_count": 32,
      "outputs": []
    },
    {
      "cell_type": "code",
      "source": [
        "predictions_model2 = model2.transform(test)"
      ],
      "metadata": {
        "id": "QA8nIIH9ScOW"
      },
      "execution_count": 33,
      "outputs": []
    },
    {
      "cell_type": "code",
      "source": [
        "y_true2 = predictions_model2.select(\"CANCELLED\")\n",
        "y_true2 = y_true2.toPandas()\n",
        "\n",
        "y_pred2 = predictions_model2.select(\"prediction\")\n",
        "y_pred2 = y_pred2.toPandas()"
      ],
      "metadata": {
        "id": "2cUjTNc2TOxN"
      },
      "execution_count": 34,
      "outputs": []
    },
    {
      "cell_type": "code",
      "source": [
        "print(classification_report(y_true2, y_pred2))"
      ],
      "metadata": {
        "colab": {
          "base_uri": "https://localhost:8080/"
        },
        "id": "ldpWBTjUT88p",
        "outputId": "ff70ae40-6ac4-4c29-a929-aa1f904ea9d3"
      },
      "execution_count": 35,
      "outputs": [
        {
          "output_type": "stream",
          "name": "stdout",
          "text": [
            "              precision    recall  f1-score   support\n",
            "\n",
            "           0       0.58      0.55      0.56    194899\n",
            "           1       0.57      0.60      0.59    194411\n",
            "\n",
            "    accuracy                           0.57    389310\n",
            "   macro avg       0.57      0.57      0.57    389310\n",
            "weighted avg       0.57      0.57      0.57    389310\n",
            "\n"
          ]
        }
      ]
    },
    {
      "cell_type": "code",
      "source": [
        "from sklearn.metrics import RocCurveDisplay\n",
        "\n",
        "RocCurveDisplay.from_predictions(y_true2, np.array(predictions_model2.select('prediction').collect()))"
      ],
      "metadata": {
        "colab": {
          "base_uri": "https://localhost:8080/",
          "height": 297
        },
        "id": "x_ltoHO4HUo_",
        "outputId": "dd76a233-5290-4f6d-c293-889d30d80d7f"
      },
      "execution_count": 45,
      "outputs": [
        {
          "output_type": "execute_result",
          "data": {
            "text/plain": [
              "<sklearn.metrics._plot.roc_curve.RocCurveDisplay at 0x7f4a2dec84d0>"
            ]
          },
          "metadata": {},
          "execution_count": 45
        },
        {
          "output_type": "display_data",
          "data": {
            "text/plain": [
              "<Figure size 432x288 with 1 Axes>"
            ],
            "image/png": "[encoded data removed]"
          },
          "metadata": {
            "needs_background": "light"
          }
        }
      ]
    },
    {
      "cell_type": "markdown",
      "source": [
        "Comparing both models, the metrics are almost identical. We can say that our implementation is fine."
      ],
      "metadata": {
        "id": "9xvoDkIacSi9"
      }
    }
  ],
  "metadata": {
    "colab": {
      "name": "AMD-SM2L Final Project",
      "provenance": [],
      "collapsed_sections": [],
      "authorship_tag": "ABX9TyMybbIZpn3hL53qQM8yK59i",
      "include_colab_link": true
    },
    "kernelspec": {
      "display_name": "Python 3",
      "name": "python3"
    },
    "language_info": {
      "name": "python"
    }
  },
  "nbformat": 4,
  "nbformat_minor": 0
}